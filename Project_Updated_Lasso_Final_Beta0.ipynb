{
 "cells": [
  {
   "cell_type": "code",
   "execution_count": 1,
   "metadata": {},
   "outputs": [],
   "source": [
    "import warnings\n",
    "warnings.filterwarnings('ignore')\n",
    "\n",
    "import numpy as np \n",
    "import pandas as pd \n",
    "\n",
    "import matplotlib.pyplot as plt\n",
    "import seaborn as sns\n",
    "\n",
    "from sklearn.preprocessing import StandardScaler\n",
    "from sklearn.model_selection import train_test_split, cross_val_score\n",
    "\n",
    "from sklearn.linear_model import LinearRegression\n",
    "from sklearn.linear_model import Lasso\n",
    "from sklearn.tree import DecisionTreeRegressor\n",
    "from sklearn.ensemble import RandomForestRegressor\n",
    "\n",
    "from sklearn.metrics import *\n",
    "from sklearn.metrics import accuracy_score"
   ]
  },
  {
   "cell_type": "code",
   "execution_count": 2,
   "metadata": {},
   "outputs": [],
   "source": [
    "data = pd.read_csv('C:\\\\Users\\\\DEEP\\\\OneDrive\\\\Desktop\\\\Data\\\\cardekho_new_updated.csv')"
   ]
  },
  {
   "cell_type": "code",
   "execution_count": 3,
   "metadata": {},
   "outputs": [
    {
     "name": "stdout",
     "output_type": "stream",
     "text": [
      "19974 , 13\n"
     ]
    }
   ],
   "source": [
    "print(data.shape[0],\",\",data.shape[1])"
   ]
  },
  {
   "cell_type": "code",
   "execution_count": 4,
   "metadata": {},
   "outputs": [
    {
     "data": {
      "text/html": [
       "<div>\n",
       "<style scoped>\n",
       "    .dataframe tbody tr th:only-of-type {\n",
       "        vertical-align: middle;\n",
       "    }\n",
       "\n",
       "    .dataframe tbody tr th {\n",
       "        vertical-align: top;\n",
       "    }\n",
       "\n",
       "    .dataframe thead th {\n",
       "        text-align: right;\n",
       "    }\n",
       "</style>\n",
       "<table border=\"1\" class=\"dataframe\">\n",
       "  <thead>\n",
       "    <tr style=\"text-align: right;\">\n",
       "      <th></th>\n",
       "      <th>full_name</th>\n",
       "      <th>selling_price</th>\n",
       "      <th>new_price</th>\n",
       "      <th>year</th>\n",
       "      <th>seller_type</th>\n",
       "      <th>km_driven</th>\n",
       "      <th>owner_type</th>\n",
       "      <th>fuel_type</th>\n",
       "      <th>transmission_type</th>\n",
       "      <th>mileage</th>\n",
       "      <th>engine</th>\n",
       "      <th>max_power</th>\n",
       "      <th>seats</th>\n",
       "    </tr>\n",
       "  </thead>\n",
       "  <tbody>\n",
       "    <tr>\n",
       "      <th>0</th>\n",
       "      <td>Maruti Alto Std</td>\n",
       "      <td>1.2 Lakh*</td>\n",
       "      <td>NaN</td>\n",
       "      <td>2012</td>\n",
       "      <td>Individual</td>\n",
       "      <td>1,20,000 kms</td>\n",
       "      <td>First Owner</td>\n",
       "      <td>Petrol</td>\n",
       "      <td>Manual</td>\n",
       "      <td>Mileage19.7 kmpl</td>\n",
       "      <td>Engine796 CC</td>\n",
       "      <td>Max Power46.3 bhp</td>\n",
       "      <td>Seats5</td>\n",
       "    </tr>\n",
       "    <tr>\n",
       "      <th>1</th>\n",
       "      <td>Hyundai i10 Asta</td>\n",
       "      <td>5.5 Lakh*</td>\n",
       "      <td>New Car (On-Road Price) : Rs.7.11-7.48 Lakh*</td>\n",
       "      <td>2016</td>\n",
       "      <td>Individual</td>\n",
       "      <td>20,000 kms</td>\n",
       "      <td>First Owner</td>\n",
       "      <td>Petrol</td>\n",
       "      <td>Manual</td>\n",
       "      <td>Mileage18.9 kmpl</td>\n",
       "      <td>Engine1197 CC</td>\n",
       "      <td>Max Power82 bhp</td>\n",
       "      <td>Seats5</td>\n",
       "    </tr>\n",
       "    <tr>\n",
       "      <th>2</th>\n",
       "      <td>Hyundai i20 Asta</td>\n",
       "      <td>2.15 Lakh*</td>\n",
       "      <td>NaN</td>\n",
       "      <td>2010</td>\n",
       "      <td>Individual</td>\n",
       "      <td>60,000 kms</td>\n",
       "      <td>First Owner</td>\n",
       "      <td>Petrol</td>\n",
       "      <td>Manual</td>\n",
       "      <td>Mileage17.0 kmpl</td>\n",
       "      <td>Engine1197 CC</td>\n",
       "      <td>Max Power80 bhp</td>\n",
       "      <td>Seats5</td>\n",
       "    </tr>\n",
       "    <tr>\n",
       "      <th>3</th>\n",
       "      <td>Maruti Alto K10 2010-2014 VXI</td>\n",
       "      <td>2.26 Lakh*</td>\n",
       "      <td>NaN</td>\n",
       "      <td>2012</td>\n",
       "      <td>Individual</td>\n",
       "      <td>37,000 kms</td>\n",
       "      <td>First Owner</td>\n",
       "      <td>Petrol</td>\n",
       "      <td>Manual</td>\n",
       "      <td>Mileage20.92 kmpl</td>\n",
       "      <td>Engine998 CC</td>\n",
       "      <td>Max Power67.1 bhp</td>\n",
       "      <td>Seats5</td>\n",
       "    </tr>\n",
       "    <tr>\n",
       "      <th>4</th>\n",
       "      <td>Ford Ecosport Titanium</td>\n",
       "      <td>5.7 Lakh*</td>\n",
       "      <td>New Car (On-Road Price) : Rs.10.14-13.79 Lakh*</td>\n",
       "      <td>2015</td>\n",
       "      <td>Dealer</td>\n",
       "      <td>30,000 kms</td>\n",
       "      <td>First Owner</td>\n",
       "      <td>Diesel</td>\n",
       "      <td>Manual</td>\n",
       "      <td>Mileage22.77 kmpl</td>\n",
       "      <td>Engine1498 CC</td>\n",
       "      <td>Max Power98.59 bhp</td>\n",
       "      <td>Seats5</td>\n",
       "    </tr>\n",
       "  </tbody>\n",
       "</table>\n",
       "</div>"
      ],
      "text/plain": [
       "                       full_name selling_price  \\\n",
       "0                Maruti Alto Std     1.2 Lakh*   \n",
       "1               Hyundai i10 Asta     5.5 Lakh*   \n",
       "2               Hyundai i20 Asta    2.15 Lakh*   \n",
       "3  Maruti Alto K10 2010-2014 VXI    2.26 Lakh*   \n",
       "4         Ford Ecosport Titanium     5.7 Lakh*   \n",
       "\n",
       "                                        new_price  year seller_type  \\\n",
       "0                                             NaN  2012  Individual   \n",
       "1    New Car (On-Road Price) : Rs.7.11-7.48 Lakh*  2016  Individual   \n",
       "2                                             NaN  2010  Individual   \n",
       "3                                             NaN  2012  Individual   \n",
       "4  New Car (On-Road Price) : Rs.10.14-13.79 Lakh*  2015      Dealer   \n",
       "\n",
       "      km_driven   owner_type fuel_type transmission_type            mileage  \\\n",
       "0  1,20,000 kms  First Owner    Petrol            Manual   Mileage19.7 kmpl   \n",
       "1    20,000 kms  First Owner    Petrol            Manual   Mileage18.9 kmpl   \n",
       "2    60,000 kms  First Owner    Petrol            Manual   Mileage17.0 kmpl   \n",
       "3    37,000 kms  First Owner    Petrol            Manual  Mileage20.92 kmpl   \n",
       "4    30,000 kms  First Owner    Diesel            Manual  Mileage22.77 kmpl   \n",
       "\n",
       "          engine           max_power   seats  \n",
       "0   Engine796 CC   Max Power46.3 bhp  Seats5  \n",
       "1  Engine1197 CC     Max Power82 bhp  Seats5  \n",
       "2  Engine1197 CC     Max Power80 bhp  Seats5  \n",
       "3   Engine998 CC   Max Power67.1 bhp  Seats5  \n",
       "4  Engine1498 CC  Max Power98.59 bhp  Seats5  "
      ]
     },
     "execution_count": 4,
     "metadata": {},
     "output_type": "execute_result"
    }
   ],
   "source": [
    "data.head()"
   ]
  },
  {
   "cell_type": "code",
   "execution_count": 5,
   "metadata": {},
   "outputs": [
    {
     "data": {
      "text/html": [
       "<style  type=\"text/css\" >\n",
       "    #T_ae9250b4_b8f6_11ec_9010_38deadd1ed49row0_col2 {\n",
       "            background-color:  #e5eff9;\n",
       "            color:  #000000;\n",
       "        }    #T_ae9250b4_b8f6_11ec_9010_38deadd1ed49row0_col3 {\n",
       "            background-color:  #e5eff9;\n",
       "            color:  #000000;\n",
       "        }    #T_ae9250b4_b8f6_11ec_9010_38deadd1ed49row1_col2 {\n",
       "            background-color:  #e5eff9;\n",
       "            color:  #000000;\n",
       "        }    #T_ae9250b4_b8f6_11ec_9010_38deadd1ed49row1_col3 {\n",
       "            background-color:  #e5eff9;\n",
       "            color:  #000000;\n",
       "        }    #T_ae9250b4_b8f6_11ec_9010_38deadd1ed49row2_col2 {\n",
       "            background-color:  #08326e;\n",
       "            color:  #f1f1f1;\n",
       "        }    #T_ae9250b4_b8f6_11ec_9010_38deadd1ed49row2_col3 {\n",
       "            background-color:  #08326e;\n",
       "            color:  #f1f1f1;\n",
       "        }    #T_ae9250b4_b8f6_11ec_9010_38deadd1ed49row3_col2 {\n",
       "            background-color:  #e5eff9;\n",
       "            color:  #000000;\n",
       "        }    #T_ae9250b4_b8f6_11ec_9010_38deadd1ed49row3_col3 {\n",
       "            background-color:  #e5eff9;\n",
       "            color:  #000000;\n",
       "        }    #T_ae9250b4_b8f6_11ec_9010_38deadd1ed49row4_col2 {\n",
       "            background-color:  #e5eff9;\n",
       "            color:  #000000;\n",
       "        }    #T_ae9250b4_b8f6_11ec_9010_38deadd1ed49row4_col3 {\n",
       "            background-color:  #e5eff9;\n",
       "            color:  #000000;\n",
       "        }    #T_ae9250b4_b8f6_11ec_9010_38deadd1ed49row5_col2 {\n",
       "            background-color:  #e5eff9;\n",
       "            color:  #000000;\n",
       "        }    #T_ae9250b4_b8f6_11ec_9010_38deadd1ed49row5_col3 {\n",
       "            background-color:  #e5eff9;\n",
       "            color:  #000000;\n",
       "        }    #T_ae9250b4_b8f6_11ec_9010_38deadd1ed49row6_col2 {\n",
       "            background-color:  #e5eff9;\n",
       "            color:  #000000;\n",
       "        }    #T_ae9250b4_b8f6_11ec_9010_38deadd1ed49row6_col3 {\n",
       "            background-color:  #e5eff9;\n",
       "            color:  #000000;\n",
       "        }    #T_ae9250b4_b8f6_11ec_9010_38deadd1ed49row7_col2 {\n",
       "            background-color:  #e5eff9;\n",
       "            color:  #000000;\n",
       "        }    #T_ae9250b4_b8f6_11ec_9010_38deadd1ed49row7_col3 {\n",
       "            background-color:  #e5eff9;\n",
       "            color:  #000000;\n",
       "        }    #T_ae9250b4_b8f6_11ec_9010_38deadd1ed49row8_col2 {\n",
       "            background-color:  #e5eff9;\n",
       "            color:  #000000;\n",
       "        }    #T_ae9250b4_b8f6_11ec_9010_38deadd1ed49row8_col3 {\n",
       "            background-color:  #e5eff9;\n",
       "            color:  #000000;\n",
       "        }    #T_ae9250b4_b8f6_11ec_9010_38deadd1ed49row9_col2 {\n",
       "            background-color:  #e3eef8;\n",
       "            color:  #000000;\n",
       "        }    #T_ae9250b4_b8f6_11ec_9010_38deadd1ed49row9_col3 {\n",
       "            background-color:  #e3eef8;\n",
       "            color:  #000000;\n",
       "        }    #T_ae9250b4_b8f6_11ec_9010_38deadd1ed49row10_col2 {\n",
       "            background-color:  #e3eef9;\n",
       "            color:  #000000;\n",
       "        }    #T_ae9250b4_b8f6_11ec_9010_38deadd1ed49row10_col3 {\n",
       "            background-color:  #e3eef9;\n",
       "            color:  #000000;\n",
       "        }    #T_ae9250b4_b8f6_11ec_9010_38deadd1ed49row11_col2 {\n",
       "            background-color:  #dfecf7;\n",
       "            color:  #000000;\n",
       "        }    #T_ae9250b4_b8f6_11ec_9010_38deadd1ed49row11_col3 {\n",
       "            background-color:  #dfecf7;\n",
       "            color:  #000000;\n",
       "        }    #T_ae9250b4_b8f6_11ec_9010_38deadd1ed49row12_col2 {\n",
       "            background-color:  #e4eff9;\n",
       "            color:  #000000;\n",
       "        }    #T_ae9250b4_b8f6_11ec_9010_38deadd1ed49row12_col3 {\n",
       "            background-color:  #e4eff9;\n",
       "            color:  #000000;\n",
       "        }</style><table id=\"T_ae9250b4_b8f6_11ec_9010_38deadd1ed49\" ><thead>    <tr>        <th class=\"blank level0\" ></th>        <th class=\"col_heading level0 col0\" >features</th>        <th class=\"col_heading level0 col1\" >dtypes</th>        <th class=\"col_heading level0 col2\" >NaN count</th>        <th class=\"col_heading level0 col3\" >NaN percentage</th>    </tr></thead><tbody>\n",
       "                <tr>\n",
       "                        <th id=\"T_ae9250b4_b8f6_11ec_9010_38deadd1ed49level0_row0\" class=\"row_heading level0 row0\" >0</th>\n",
       "                        <td id=\"T_ae9250b4_b8f6_11ec_9010_38deadd1ed49row0_col0\" class=\"data row0 col0\" >full_name</td>\n",
       "                        <td id=\"T_ae9250b4_b8f6_11ec_9010_38deadd1ed49row0_col1\" class=\"data row0 col1\" >object</td>\n",
       "                        <td id=\"T_ae9250b4_b8f6_11ec_9010_38deadd1ed49row0_col2\" class=\"data row0 col2\" >0</td>\n",
       "                        <td id=\"T_ae9250b4_b8f6_11ec_9010_38deadd1ed49row0_col3\" class=\"data row0 col3\" >0.000000</td>\n",
       "            </tr>\n",
       "            <tr>\n",
       "                        <th id=\"T_ae9250b4_b8f6_11ec_9010_38deadd1ed49level0_row1\" class=\"row_heading level0 row1\" >1</th>\n",
       "                        <td id=\"T_ae9250b4_b8f6_11ec_9010_38deadd1ed49row1_col0\" class=\"data row1 col0\" >selling_price</td>\n",
       "                        <td id=\"T_ae9250b4_b8f6_11ec_9010_38deadd1ed49row1_col1\" class=\"data row1 col1\" >object</td>\n",
       "                        <td id=\"T_ae9250b4_b8f6_11ec_9010_38deadd1ed49row1_col2\" class=\"data row1 col2\" >0</td>\n",
       "                        <td id=\"T_ae9250b4_b8f6_11ec_9010_38deadd1ed49row1_col3\" class=\"data row1 col3\" >0.000000</td>\n",
       "            </tr>\n",
       "            <tr>\n",
       "                        <th id=\"T_ae9250b4_b8f6_11ec_9010_38deadd1ed49level0_row2\" class=\"row_heading level0 row2\" >2</th>\n",
       "                        <td id=\"T_ae9250b4_b8f6_11ec_9010_38deadd1ed49row2_col0\" class=\"data row2 col0\" >new_price</td>\n",
       "                        <td id=\"T_ae9250b4_b8f6_11ec_9010_38deadd1ed49row2_col1\" class=\"data row2 col1\" >object</td>\n",
       "                        <td id=\"T_ae9250b4_b8f6_11ec_9010_38deadd1ed49row2_col2\" class=\"data row2 col2\" >10410</td>\n",
       "                        <td id=\"T_ae9250b4_b8f6_11ec_9010_38deadd1ed49row2_col3\" class=\"data row2 col3\" >0.521178</td>\n",
       "            </tr>\n",
       "            <tr>\n",
       "                        <th id=\"T_ae9250b4_b8f6_11ec_9010_38deadd1ed49level0_row3\" class=\"row_heading level0 row3\" >3</th>\n",
       "                        <td id=\"T_ae9250b4_b8f6_11ec_9010_38deadd1ed49row3_col0\" class=\"data row3 col0\" >year</td>\n",
       "                        <td id=\"T_ae9250b4_b8f6_11ec_9010_38deadd1ed49row3_col1\" class=\"data row3 col1\" >int64</td>\n",
       "                        <td id=\"T_ae9250b4_b8f6_11ec_9010_38deadd1ed49row3_col2\" class=\"data row3 col2\" >0</td>\n",
       "                        <td id=\"T_ae9250b4_b8f6_11ec_9010_38deadd1ed49row3_col3\" class=\"data row3 col3\" >0.000000</td>\n",
       "            </tr>\n",
       "            <tr>\n",
       "                        <th id=\"T_ae9250b4_b8f6_11ec_9010_38deadd1ed49level0_row4\" class=\"row_heading level0 row4\" >4</th>\n",
       "                        <td id=\"T_ae9250b4_b8f6_11ec_9010_38deadd1ed49row4_col0\" class=\"data row4 col0\" >seller_type</td>\n",
       "                        <td id=\"T_ae9250b4_b8f6_11ec_9010_38deadd1ed49row4_col1\" class=\"data row4 col1\" >object</td>\n",
       "                        <td id=\"T_ae9250b4_b8f6_11ec_9010_38deadd1ed49row4_col2\" class=\"data row4 col2\" >0</td>\n",
       "                        <td id=\"T_ae9250b4_b8f6_11ec_9010_38deadd1ed49row4_col3\" class=\"data row4 col3\" >0.000000</td>\n",
       "            </tr>\n",
       "            <tr>\n",
       "                        <th id=\"T_ae9250b4_b8f6_11ec_9010_38deadd1ed49level0_row5\" class=\"row_heading level0 row5\" >5</th>\n",
       "                        <td id=\"T_ae9250b4_b8f6_11ec_9010_38deadd1ed49row5_col0\" class=\"data row5 col0\" >km_driven</td>\n",
       "                        <td id=\"T_ae9250b4_b8f6_11ec_9010_38deadd1ed49row5_col1\" class=\"data row5 col1\" >object</td>\n",
       "                        <td id=\"T_ae9250b4_b8f6_11ec_9010_38deadd1ed49row5_col2\" class=\"data row5 col2\" >0</td>\n",
       "                        <td id=\"T_ae9250b4_b8f6_11ec_9010_38deadd1ed49row5_col3\" class=\"data row5 col3\" >0.000000</td>\n",
       "            </tr>\n",
       "            <tr>\n",
       "                        <th id=\"T_ae9250b4_b8f6_11ec_9010_38deadd1ed49level0_row6\" class=\"row_heading level0 row6\" >6</th>\n",
       "                        <td id=\"T_ae9250b4_b8f6_11ec_9010_38deadd1ed49row6_col0\" class=\"data row6 col0\" >owner_type</td>\n",
       "                        <td id=\"T_ae9250b4_b8f6_11ec_9010_38deadd1ed49row6_col1\" class=\"data row6 col1\" >object</td>\n",
       "                        <td id=\"T_ae9250b4_b8f6_11ec_9010_38deadd1ed49row6_col2\" class=\"data row6 col2\" >0</td>\n",
       "                        <td id=\"T_ae9250b4_b8f6_11ec_9010_38deadd1ed49row6_col3\" class=\"data row6 col3\" >0.000000</td>\n",
       "            </tr>\n",
       "            <tr>\n",
       "                        <th id=\"T_ae9250b4_b8f6_11ec_9010_38deadd1ed49level0_row7\" class=\"row_heading level0 row7\" >7</th>\n",
       "                        <td id=\"T_ae9250b4_b8f6_11ec_9010_38deadd1ed49row7_col0\" class=\"data row7 col0\" >fuel_type</td>\n",
       "                        <td id=\"T_ae9250b4_b8f6_11ec_9010_38deadd1ed49row7_col1\" class=\"data row7 col1\" >object</td>\n",
       "                        <td id=\"T_ae9250b4_b8f6_11ec_9010_38deadd1ed49row7_col2\" class=\"data row7 col2\" >0</td>\n",
       "                        <td id=\"T_ae9250b4_b8f6_11ec_9010_38deadd1ed49row7_col3\" class=\"data row7 col3\" >0.000000</td>\n",
       "            </tr>\n",
       "            <tr>\n",
       "                        <th id=\"T_ae9250b4_b8f6_11ec_9010_38deadd1ed49level0_row8\" class=\"row_heading level0 row8\" >8</th>\n",
       "                        <td id=\"T_ae9250b4_b8f6_11ec_9010_38deadd1ed49row8_col0\" class=\"data row8 col0\" >transmission_type</td>\n",
       "                        <td id=\"T_ae9250b4_b8f6_11ec_9010_38deadd1ed49row8_col1\" class=\"data row8 col1\" >object</td>\n",
       "                        <td id=\"T_ae9250b4_b8f6_11ec_9010_38deadd1ed49row8_col2\" class=\"data row8 col2\" >0</td>\n",
       "                        <td id=\"T_ae9250b4_b8f6_11ec_9010_38deadd1ed49row8_col3\" class=\"data row8 col3\" >0.000000</td>\n",
       "            </tr>\n",
       "            <tr>\n",
       "                        <th id=\"T_ae9250b4_b8f6_11ec_9010_38deadd1ed49level0_row9\" class=\"row_heading level0 row9\" >9</th>\n",
       "                        <td id=\"T_ae9250b4_b8f6_11ec_9010_38deadd1ed49row9_col0\" class=\"data row9 col0\" >mileage</td>\n",
       "                        <td id=\"T_ae9250b4_b8f6_11ec_9010_38deadd1ed49row9_col1\" class=\"data row9 col1\" >object</td>\n",
       "                        <td id=\"T_ae9250b4_b8f6_11ec_9010_38deadd1ed49row9_col2\" class=\"data row9 col2\" >160</td>\n",
       "                        <td id=\"T_ae9250b4_b8f6_11ec_9010_38deadd1ed49row9_col3\" class=\"data row9 col3\" >0.008010</td>\n",
       "            </tr>\n",
       "            <tr>\n",
       "                        <th id=\"T_ae9250b4_b8f6_11ec_9010_38deadd1ed49level0_row10\" class=\"row_heading level0 row10\" >10</th>\n",
       "                        <td id=\"T_ae9250b4_b8f6_11ec_9010_38deadd1ed49row10_col0\" class=\"data row10 col0\" >engine</td>\n",
       "                        <td id=\"T_ae9250b4_b8f6_11ec_9010_38deadd1ed49row10_col1\" class=\"data row10 col1\" >object</td>\n",
       "                        <td id=\"T_ae9250b4_b8f6_11ec_9010_38deadd1ed49row10_col2\" class=\"data row10 col2\" >110</td>\n",
       "                        <td id=\"T_ae9250b4_b8f6_11ec_9010_38deadd1ed49row10_col3\" class=\"data row10 col3\" >0.005507</td>\n",
       "            </tr>\n",
       "            <tr>\n",
       "                        <th id=\"T_ae9250b4_b8f6_11ec_9010_38deadd1ed49level0_row11\" class=\"row_heading level0 row11\" >11</th>\n",
       "                        <td id=\"T_ae9250b4_b8f6_11ec_9010_38deadd1ed49row11_col0\" class=\"data row11 col0\" >max_power</td>\n",
       "                        <td id=\"T_ae9250b4_b8f6_11ec_9010_38deadd1ed49row11_col1\" class=\"data row11 col1\" >object</td>\n",
       "                        <td id=\"T_ae9250b4_b8f6_11ec_9010_38deadd1ed49row11_col2\" class=\"data row11 col2\" >337</td>\n",
       "                        <td id=\"T_ae9250b4_b8f6_11ec_9010_38deadd1ed49row11_col3\" class=\"data row11 col3\" >0.016872</td>\n",
       "            </tr>\n",
       "            <tr>\n",
       "                        <th id=\"T_ae9250b4_b8f6_11ec_9010_38deadd1ed49level0_row12\" class=\"row_heading level0 row12\" >12</th>\n",
       "                        <td id=\"T_ae9250b4_b8f6_11ec_9010_38deadd1ed49row12_col0\" class=\"data row12 col0\" >seats</td>\n",
       "                        <td id=\"T_ae9250b4_b8f6_11ec_9010_38deadd1ed49row12_col1\" class=\"data row12 col1\" >object</td>\n",
       "                        <td id=\"T_ae9250b4_b8f6_11ec_9010_38deadd1ed49row12_col2\" class=\"data row12 col2\" >87</td>\n",
       "                        <td id=\"T_ae9250b4_b8f6_11ec_9010_38deadd1ed49row12_col3\" class=\"data row12 col3\" >0.004356</td>\n",
       "            </tr>\n",
       "    </tbody></table>"
      ],
      "text/plain": [
       "<pandas.io.formats.style.Styler at 0x26b63b622c8>"
      ]
     },
     "execution_count": 5,
     "metadata": {},
     "output_type": "execute_result"
    }
   ],
   "source": [
    "def null_count():\n",
    "    return pd.DataFrame({'features': data.columns,\n",
    "                'dtypes': data.dtypes.values,\n",
    "                'NaN count': data.isnull().sum().values,\n",
    "                'NaN percentage': data.isnull().sum().values/data.shape[0]}).style.background_gradient(cmap='Blues',low=0.1,high=0.01)\n",
    "null_count()"
   ]
  },
  {
   "cell_type": "markdown",
   "metadata": {},
   "source": [
    "### Cleaning selling_price column"
   ]
  },
  {
   "cell_type": "code",
   "execution_count": 6,
   "metadata": {},
   "outputs": [],
   "source": [
    "for i in range(data.shape[0]):\n",
    "    try:\n",
    "        price = float(data['selling_price'][i].split(' ')[0])\n",
    "        digit = data['selling_price'][i].split(' ')[1]\n",
    "        if digit == 'Lakh*':\n",
    "            price = price * 100000\n",
    "            data['selling_price'][i] = price\n",
    "        elif digit == 'Cr*':\n",
    "            price = price * 10000000\n",
    "            data['selling_price'][i] = price\n",
    "    except:\n",
    "        price = data['selling_price'][i][:-1]    # price<lakh(90,000)\n",
    "        price = price.replace(',', '')\n",
    "        data['selling_price'][i] = float(price)"
   ]
  },
  {
   "cell_type": "markdown",
   "metadata": {},
   "source": [
    "### Cleaning km_driven, mileage, engine, max_power, seats columns"
   ]
  },
  {
   "cell_type": "code",
   "execution_count": 7,
   "metadata": {},
   "outputs": [],
   "source": [
    "# kilometer driven\n",
    "data['km_driven'] = data['km_driven'].str.split(' ', n=1, expand=True)[0]\n",
    "data['km_driven'] = data['km_driven'].str.replace(',','')\n",
    "\n",
    "# Mileage\n",
    "data['mileage'] = data['mileage'].str.split(' ', expand=True)[0].str.split('e', expand=True)[2]\n",
    "\n",
    "# Engine\n",
    "data['engine'] = data['engine'].str.split(' ', expand=True)[0].str.split('e',expand=True)[1]\n",
    "\n",
    "# Max Power\n",
    "data['max_power'] = data['max_power'].str.split(' ', expand=True)[1].str.split('r',expand=True)[1]\n",
    "\n",
    "# Seats \n",
    "data['seats'] = data['seats'].str.split('s', expand=True)[1]"
   ]
  },
  {
   "cell_type": "code",
   "execution_count": 8,
   "metadata": {},
   "outputs": [
    {
     "data": {
      "text/html": [
       "<div>\n",
       "<style scoped>\n",
       "    .dataframe tbody tr th:only-of-type {\n",
       "        vertical-align: middle;\n",
       "    }\n",
       "\n",
       "    .dataframe tbody tr th {\n",
       "        vertical-align: top;\n",
       "    }\n",
       "\n",
       "    .dataframe thead th {\n",
       "        text-align: right;\n",
       "    }\n",
       "</style>\n",
       "<table border=\"1\" class=\"dataframe\">\n",
       "  <thead>\n",
       "    <tr style=\"text-align: right;\">\n",
       "      <th></th>\n",
       "      <th>full_name</th>\n",
       "      <th>selling_price</th>\n",
       "      <th>new_price</th>\n",
       "      <th>year</th>\n",
       "      <th>seller_type</th>\n",
       "      <th>km_driven</th>\n",
       "      <th>owner_type</th>\n",
       "      <th>fuel_type</th>\n",
       "      <th>transmission_type</th>\n",
       "      <th>mileage</th>\n",
       "      <th>engine</th>\n",
       "      <th>max_power</th>\n",
       "      <th>seats</th>\n",
       "    </tr>\n",
       "  </thead>\n",
       "  <tbody>\n",
       "    <tr>\n",
       "      <th>0</th>\n",
       "      <td>Maruti Alto Std</td>\n",
       "      <td>120000.0</td>\n",
       "      <td>NaN</td>\n",
       "      <td>2012</td>\n",
       "      <td>Individual</td>\n",
       "      <td>120000</td>\n",
       "      <td>First Owner</td>\n",
       "      <td>Petrol</td>\n",
       "      <td>Manual</td>\n",
       "      <td>19.7</td>\n",
       "      <td>796</td>\n",
       "      <td>46.3</td>\n",
       "      <td>5</td>\n",
       "    </tr>\n",
       "    <tr>\n",
       "      <th>1</th>\n",
       "      <td>Hyundai i10 Asta</td>\n",
       "      <td>550000.0</td>\n",
       "      <td>New Car (On-Road Price) : Rs.7.11-7.48 Lakh*</td>\n",
       "      <td>2016</td>\n",
       "      <td>Individual</td>\n",
       "      <td>20000</td>\n",
       "      <td>First Owner</td>\n",
       "      <td>Petrol</td>\n",
       "      <td>Manual</td>\n",
       "      <td>18.9</td>\n",
       "      <td>1197</td>\n",
       "      <td>82</td>\n",
       "      <td>5</td>\n",
       "    </tr>\n",
       "    <tr>\n",
       "      <th>2</th>\n",
       "      <td>Hyundai i20 Asta</td>\n",
       "      <td>215000.0</td>\n",
       "      <td>NaN</td>\n",
       "      <td>2010</td>\n",
       "      <td>Individual</td>\n",
       "      <td>60000</td>\n",
       "      <td>First Owner</td>\n",
       "      <td>Petrol</td>\n",
       "      <td>Manual</td>\n",
       "      <td>17.0</td>\n",
       "      <td>1197</td>\n",
       "      <td>80</td>\n",
       "      <td>5</td>\n",
       "    </tr>\n",
       "    <tr>\n",
       "      <th>3</th>\n",
       "      <td>Maruti Alto K10 2010-2014 VXI</td>\n",
       "      <td>226000.0</td>\n",
       "      <td>NaN</td>\n",
       "      <td>2012</td>\n",
       "      <td>Individual</td>\n",
       "      <td>37000</td>\n",
       "      <td>First Owner</td>\n",
       "      <td>Petrol</td>\n",
       "      <td>Manual</td>\n",
       "      <td>20.92</td>\n",
       "      <td>998</td>\n",
       "      <td>67.1</td>\n",
       "      <td>5</td>\n",
       "    </tr>\n",
       "    <tr>\n",
       "      <th>4</th>\n",
       "      <td>Ford Ecosport Titanium</td>\n",
       "      <td>570000.0</td>\n",
       "      <td>New Car (On-Road Price) : Rs.10.14-13.79 Lakh*</td>\n",
       "      <td>2015</td>\n",
       "      <td>Dealer</td>\n",
       "      <td>30000</td>\n",
       "      <td>First Owner</td>\n",
       "      <td>Diesel</td>\n",
       "      <td>Manual</td>\n",
       "      <td>22.77</td>\n",
       "      <td>1498</td>\n",
       "      <td>98.59</td>\n",
       "      <td>5</td>\n",
       "    </tr>\n",
       "    <tr>\n",
       "      <th>...</th>\n",
       "      <td>...</td>\n",
       "      <td>...</td>\n",
       "      <td>...</td>\n",
       "      <td>...</td>\n",
       "      <td>...</td>\n",
       "      <td>...</td>\n",
       "      <td>...</td>\n",
       "      <td>...</td>\n",
       "      <td>...</td>\n",
       "      <td>...</td>\n",
       "      <td>...</td>\n",
       "      <td>...</td>\n",
       "      <td>...</td>\n",
       "    </tr>\n",
       "    <tr>\n",
       "      <th>19969</th>\n",
       "      <td>Toyota Platinum Etios 1.4 GXD</td>\n",
       "      <td>650000.0</td>\n",
       "      <td>NaN</td>\n",
       "      <td>2017</td>\n",
       "      <td>Dealer</td>\n",
       "      <td>69480</td>\n",
       "      <td>First Owner</td>\n",
       "      <td>Diesel</td>\n",
       "      <td>Manual</td>\n",
       "      <td>23.59</td>\n",
       "      <td>1364</td>\n",
       "      <td>67.05</td>\n",
       "      <td>5</td>\n",
       "    </tr>\n",
       "    <tr>\n",
       "      <th>19970</th>\n",
       "      <td>Maruti Ertiga BSIV VXI</td>\n",
       "      <td>925000.0</td>\n",
       "      <td>NaN</td>\n",
       "      <td>2019</td>\n",
       "      <td>Dealer</td>\n",
       "      <td>18000</td>\n",
       "      <td>First Owner</td>\n",
       "      <td>Petrol</td>\n",
       "      <td>Manual</td>\n",
       "      <td>17.5</td>\n",
       "      <td>1373</td>\n",
       "      <td>91.1</td>\n",
       "      <td>7</td>\n",
       "    </tr>\n",
       "    <tr>\n",
       "      <th>19971</th>\n",
       "      <td>Skoda Rapid 1.5 TDI Elegance</td>\n",
       "      <td>425000.0</td>\n",
       "      <td>NaN</td>\n",
       "      <td>2015</td>\n",
       "      <td>Dealer</td>\n",
       "      <td>67000</td>\n",
       "      <td>First Owner</td>\n",
       "      <td>Diesel</td>\n",
       "      <td>Manual</td>\n",
       "      <td>21.14</td>\n",
       "      <td>1498</td>\n",
       "      <td>103.52</td>\n",
       "      <td>5</td>\n",
       "    </tr>\n",
       "    <tr>\n",
       "      <th>19972</th>\n",
       "      <td>Mahindra XUV500 W6 2WD</td>\n",
       "      <td>1225000.0</td>\n",
       "      <td>New Car (On-Road Price) : Rs.17.83-24.91 Lakh*</td>\n",
       "      <td>2016</td>\n",
       "      <td>Dealer</td>\n",
       "      <td>3800000</td>\n",
       "      <td>First Owner</td>\n",
       "      <td>Diesel</td>\n",
       "      <td>Manual</td>\n",
       "      <td>16.0</td>\n",
       "      <td>2179</td>\n",
       "      <td>140</td>\n",
       "      <td>7</td>\n",
       "    </tr>\n",
       "    <tr>\n",
       "      <th>19973</th>\n",
       "      <td>Honda City i-VTEC CVT VX</td>\n",
       "      <td>1200000.0</td>\n",
       "      <td>NaN</td>\n",
       "      <td>2019</td>\n",
       "      <td>Dealer</td>\n",
       "      <td>13000</td>\n",
       "      <td>First Owner</td>\n",
       "      <td>Petrol</td>\n",
       "      <td>Automatic</td>\n",
       "      <td>18.0</td>\n",
       "      <td>1497</td>\n",
       "      <td>117.6</td>\n",
       "      <td>5</td>\n",
       "    </tr>\n",
       "  </tbody>\n",
       "</table>\n",
       "<p>19974 rows × 13 columns</p>\n",
       "</div>"
      ],
      "text/plain": [
       "                           full_name selling_price  \\\n",
       "0                    Maruti Alto Std      120000.0   \n",
       "1                   Hyundai i10 Asta      550000.0   \n",
       "2                   Hyundai i20 Asta      215000.0   \n",
       "3      Maruti Alto K10 2010-2014 VXI      226000.0   \n",
       "4             Ford Ecosport Titanium      570000.0   \n",
       "...                              ...           ...   \n",
       "19969  Toyota Platinum Etios 1.4 GXD      650000.0   \n",
       "19970         Maruti Ertiga BSIV VXI      925000.0   \n",
       "19971   Skoda Rapid 1.5 TDI Elegance      425000.0   \n",
       "19972         Mahindra XUV500 W6 2WD     1225000.0   \n",
       "19973       Honda City i-VTEC CVT VX     1200000.0   \n",
       "\n",
       "                                            new_price  year seller_type  \\\n",
       "0                                                 NaN  2012  Individual   \n",
       "1        New Car (On-Road Price) : Rs.7.11-7.48 Lakh*  2016  Individual   \n",
       "2                                                 NaN  2010  Individual   \n",
       "3                                                 NaN  2012  Individual   \n",
       "4      New Car (On-Road Price) : Rs.10.14-13.79 Lakh*  2015      Dealer   \n",
       "...                                               ...   ...         ...   \n",
       "19969                                             NaN  2017      Dealer   \n",
       "19970                                             NaN  2019      Dealer   \n",
       "19971                                             NaN  2015      Dealer   \n",
       "19972  New Car (On-Road Price) : Rs.17.83-24.91 Lakh*  2016      Dealer   \n",
       "19973                                             NaN  2019      Dealer   \n",
       "\n",
       "      km_driven   owner_type fuel_type transmission_type mileage engine  \\\n",
       "0        120000  First Owner    Petrol            Manual    19.7    796   \n",
       "1         20000  First Owner    Petrol            Manual    18.9   1197   \n",
       "2         60000  First Owner    Petrol            Manual    17.0   1197   \n",
       "3         37000  First Owner    Petrol            Manual   20.92    998   \n",
       "4         30000  First Owner    Diesel            Manual   22.77   1498   \n",
       "...         ...          ...       ...               ...     ...    ...   \n",
       "19969     69480  First Owner    Diesel            Manual   23.59   1364   \n",
       "19970     18000  First Owner    Petrol            Manual    17.5   1373   \n",
       "19971     67000  First Owner    Diesel            Manual   21.14   1498   \n",
       "19972   3800000  First Owner    Diesel            Manual    16.0   2179   \n",
       "19973     13000  First Owner    Petrol         Automatic    18.0   1497   \n",
       "\n",
       "      max_power seats  \n",
       "0          46.3     5  \n",
       "1            82     5  \n",
       "2            80     5  \n",
       "3          67.1     5  \n",
       "4         98.59     5  \n",
       "...         ...   ...  \n",
       "19969     67.05     5  \n",
       "19970      91.1     7  \n",
       "19971    103.52     5  \n",
       "19972       140     7  \n",
       "19973     117.6     5  \n",
       "\n",
       "[19974 rows x 13 columns]"
      ]
     },
     "execution_count": 8,
     "metadata": {},
     "output_type": "execute_result"
    }
   ],
   "source": [
    "data"
   ]
  },
  {
   "cell_type": "markdown",
   "metadata": {},
   "source": [
    "### Changing the data types of the columns"
   ]
  },
  {
   "cell_type": "code",
   "execution_count": 9,
   "metadata": {},
   "outputs": [],
   "source": [
    "cols = ['selling_price', 'km_driven', 'mileage', 'engine', 'max_power', 'seats']\n",
    "\n",
    "for col in cols:\n",
    "    try:\n",
    "        data[col] = data[col].astype(int)\n",
    "    except:\n",
    "        data[col] = data[col].astype(float)"
   ]
  },
  {
   "cell_type": "code",
   "execution_count": 10,
   "metadata": {},
   "outputs": [
    {
     "data": {
      "text/html": [
       "<div>\n",
       "<style scoped>\n",
       "    .dataframe tbody tr th:only-of-type {\n",
       "        vertical-align: middle;\n",
       "    }\n",
       "\n",
       "    .dataframe tbody tr th {\n",
       "        vertical-align: top;\n",
       "    }\n",
       "\n",
       "    .dataframe thead th {\n",
       "        text-align: right;\n",
       "    }\n",
       "</style>\n",
       "<table border=\"1\" class=\"dataframe\">\n",
       "  <thead>\n",
       "    <tr style=\"text-align: right;\">\n",
       "      <th></th>\n",
       "      <th>features</th>\n",
       "      <th>dtypes</th>\n",
       "    </tr>\n",
       "  </thead>\n",
       "  <tbody>\n",
       "    <tr>\n",
       "      <th>0</th>\n",
       "      <td>full_name</td>\n",
       "      <td>object</td>\n",
       "    </tr>\n",
       "    <tr>\n",
       "      <th>1</th>\n",
       "      <td>selling_price</td>\n",
       "      <td>int32</td>\n",
       "    </tr>\n",
       "    <tr>\n",
       "      <th>2</th>\n",
       "      <td>new_price</td>\n",
       "      <td>object</td>\n",
       "    </tr>\n",
       "    <tr>\n",
       "      <th>3</th>\n",
       "      <td>year</td>\n",
       "      <td>int64</td>\n",
       "    </tr>\n",
       "    <tr>\n",
       "      <th>4</th>\n",
       "      <td>seller_type</td>\n",
       "      <td>object</td>\n",
       "    </tr>\n",
       "    <tr>\n",
       "      <th>5</th>\n",
       "      <td>km_driven</td>\n",
       "      <td>int32</td>\n",
       "    </tr>\n",
       "    <tr>\n",
       "      <th>6</th>\n",
       "      <td>owner_type</td>\n",
       "      <td>object</td>\n",
       "    </tr>\n",
       "    <tr>\n",
       "      <th>7</th>\n",
       "      <td>fuel_type</td>\n",
       "      <td>object</td>\n",
       "    </tr>\n",
       "    <tr>\n",
       "      <th>8</th>\n",
       "      <td>transmission_type</td>\n",
       "      <td>object</td>\n",
       "    </tr>\n",
       "    <tr>\n",
       "      <th>9</th>\n",
       "      <td>mileage</td>\n",
       "      <td>float64</td>\n",
       "    </tr>\n",
       "    <tr>\n",
       "      <th>10</th>\n",
       "      <td>engine</td>\n",
       "      <td>float64</td>\n",
       "    </tr>\n",
       "    <tr>\n",
       "      <th>11</th>\n",
       "      <td>max_power</td>\n",
       "      <td>float64</td>\n",
       "    </tr>\n",
       "    <tr>\n",
       "      <th>12</th>\n",
       "      <td>seats</td>\n",
       "      <td>float64</td>\n",
       "    </tr>\n",
       "  </tbody>\n",
       "</table>\n",
       "</div>"
      ],
      "text/plain": [
       "             features   dtypes\n",
       "0           full_name   object\n",
       "1       selling_price    int32\n",
       "2           new_price   object\n",
       "3                year    int64\n",
       "4         seller_type   object\n",
       "5           km_driven    int32\n",
       "6          owner_type   object\n",
       "7           fuel_type   object\n",
       "8   transmission_type   object\n",
       "9             mileage  float64\n",
       "10             engine  float64\n",
       "11          max_power  float64\n",
       "12              seats  float64"
      ]
     },
     "execution_count": 10,
     "metadata": {},
     "output_type": "execute_result"
    }
   ],
   "source": [
    "def datatyp():\n",
    "    return pd.DataFrame({'features': data.columns,\n",
    "                'dtypes': data.dtypes.values})\n",
    "datatyp()"
   ]
  },
  {
   "cell_type": "markdown",
   "metadata": {},
   "source": [
    "### Creating new feature Company"
   ]
  },
  {
   "cell_type": "code",
   "execution_count": 11,
   "metadata": {},
   "outputs": [],
   "source": [
    "data['full_name'] = data['full_name'].str.split(' ').str.slice(0,3).str.join(' ')\n",
    "data['company'] = data['full_name'].str.split(' ').str.slice(0,1).str.join(' ')"
   ]
  },
  {
   "cell_type": "code",
   "execution_count": 12,
   "metadata": {},
   "outputs": [
    {
     "data": {
      "text/html": [
       "<div>\n",
       "<style scoped>\n",
       "    .dataframe tbody tr th:only-of-type {\n",
       "        vertical-align: middle;\n",
       "    }\n",
       "\n",
       "    .dataframe tbody tr th {\n",
       "        vertical-align: top;\n",
       "    }\n",
       "\n",
       "    .dataframe thead th {\n",
       "        text-align: right;\n",
       "    }\n",
       "</style>\n",
       "<table border=\"1\" class=\"dataframe\">\n",
       "  <thead>\n",
       "    <tr style=\"text-align: right;\">\n",
       "      <th></th>\n",
       "      <th>full_name</th>\n",
       "      <th>selling_price</th>\n",
       "      <th>new_price</th>\n",
       "      <th>year</th>\n",
       "      <th>seller_type</th>\n",
       "      <th>km_driven</th>\n",
       "      <th>owner_type</th>\n",
       "      <th>fuel_type</th>\n",
       "      <th>transmission_type</th>\n",
       "      <th>mileage</th>\n",
       "      <th>engine</th>\n",
       "      <th>max_power</th>\n",
       "      <th>seats</th>\n",
       "      <th>company</th>\n",
       "    </tr>\n",
       "  </thead>\n",
       "  <tbody>\n",
       "    <tr>\n",
       "      <th>0</th>\n",
       "      <td>Maruti Alto Std</td>\n",
       "      <td>120000</td>\n",
       "      <td>NaN</td>\n",
       "      <td>2012</td>\n",
       "      <td>Individual</td>\n",
       "      <td>120000</td>\n",
       "      <td>First Owner</td>\n",
       "      <td>Petrol</td>\n",
       "      <td>Manual</td>\n",
       "      <td>19.70</td>\n",
       "      <td>796.0</td>\n",
       "      <td>46.30</td>\n",
       "      <td>5.0</td>\n",
       "      <td>Maruti</td>\n",
       "    </tr>\n",
       "    <tr>\n",
       "      <th>1</th>\n",
       "      <td>Hyundai i10 Asta</td>\n",
       "      <td>550000</td>\n",
       "      <td>New Car (On-Road Price) : Rs.7.11-7.48 Lakh*</td>\n",
       "      <td>2016</td>\n",
       "      <td>Individual</td>\n",
       "      <td>20000</td>\n",
       "      <td>First Owner</td>\n",
       "      <td>Petrol</td>\n",
       "      <td>Manual</td>\n",
       "      <td>18.90</td>\n",
       "      <td>1197.0</td>\n",
       "      <td>82.00</td>\n",
       "      <td>5.0</td>\n",
       "      <td>Hyundai</td>\n",
       "    </tr>\n",
       "    <tr>\n",
       "      <th>2</th>\n",
       "      <td>Hyundai i20 Asta</td>\n",
       "      <td>215000</td>\n",
       "      <td>NaN</td>\n",
       "      <td>2010</td>\n",
       "      <td>Individual</td>\n",
       "      <td>60000</td>\n",
       "      <td>First Owner</td>\n",
       "      <td>Petrol</td>\n",
       "      <td>Manual</td>\n",
       "      <td>17.00</td>\n",
       "      <td>1197.0</td>\n",
       "      <td>80.00</td>\n",
       "      <td>5.0</td>\n",
       "      <td>Hyundai</td>\n",
       "    </tr>\n",
       "    <tr>\n",
       "      <th>3</th>\n",
       "      <td>Maruti Alto K10</td>\n",
       "      <td>225999</td>\n",
       "      <td>NaN</td>\n",
       "      <td>2012</td>\n",
       "      <td>Individual</td>\n",
       "      <td>37000</td>\n",
       "      <td>First Owner</td>\n",
       "      <td>Petrol</td>\n",
       "      <td>Manual</td>\n",
       "      <td>20.92</td>\n",
       "      <td>998.0</td>\n",
       "      <td>67.10</td>\n",
       "      <td>5.0</td>\n",
       "      <td>Maruti</td>\n",
       "    </tr>\n",
       "    <tr>\n",
       "      <th>4</th>\n",
       "      <td>Ford Ecosport Titanium</td>\n",
       "      <td>570000</td>\n",
       "      <td>New Car (On-Road Price) : Rs.10.14-13.79 Lakh*</td>\n",
       "      <td>2015</td>\n",
       "      <td>Dealer</td>\n",
       "      <td>30000</td>\n",
       "      <td>First Owner</td>\n",
       "      <td>Diesel</td>\n",
       "      <td>Manual</td>\n",
       "      <td>22.77</td>\n",
       "      <td>1498.0</td>\n",
       "      <td>98.59</td>\n",
       "      <td>5.0</td>\n",
       "      <td>Ford</td>\n",
       "    </tr>\n",
       "    <tr>\n",
       "      <th>...</th>\n",
       "      <td>...</td>\n",
       "      <td>...</td>\n",
       "      <td>...</td>\n",
       "      <td>...</td>\n",
       "      <td>...</td>\n",
       "      <td>...</td>\n",
       "      <td>...</td>\n",
       "      <td>...</td>\n",
       "      <td>...</td>\n",
       "      <td>...</td>\n",
       "      <td>...</td>\n",
       "      <td>...</td>\n",
       "      <td>...</td>\n",
       "      <td>...</td>\n",
       "    </tr>\n",
       "    <tr>\n",
       "      <th>19969</th>\n",
       "      <td>Toyota Platinum Etios</td>\n",
       "      <td>650000</td>\n",
       "      <td>NaN</td>\n",
       "      <td>2017</td>\n",
       "      <td>Dealer</td>\n",
       "      <td>69480</td>\n",
       "      <td>First Owner</td>\n",
       "      <td>Diesel</td>\n",
       "      <td>Manual</td>\n",
       "      <td>23.59</td>\n",
       "      <td>1364.0</td>\n",
       "      <td>67.05</td>\n",
       "      <td>5.0</td>\n",
       "      <td>Toyota</td>\n",
       "    </tr>\n",
       "    <tr>\n",
       "      <th>19970</th>\n",
       "      <td>Maruti Ertiga BSIV</td>\n",
       "      <td>925000</td>\n",
       "      <td>NaN</td>\n",
       "      <td>2019</td>\n",
       "      <td>Dealer</td>\n",
       "      <td>18000</td>\n",
       "      <td>First Owner</td>\n",
       "      <td>Petrol</td>\n",
       "      <td>Manual</td>\n",
       "      <td>17.50</td>\n",
       "      <td>1373.0</td>\n",
       "      <td>91.10</td>\n",
       "      <td>7.0</td>\n",
       "      <td>Maruti</td>\n",
       "    </tr>\n",
       "    <tr>\n",
       "      <th>19971</th>\n",
       "      <td>Skoda Rapid 1.5</td>\n",
       "      <td>425000</td>\n",
       "      <td>NaN</td>\n",
       "      <td>2015</td>\n",
       "      <td>Dealer</td>\n",
       "      <td>67000</td>\n",
       "      <td>First Owner</td>\n",
       "      <td>Diesel</td>\n",
       "      <td>Manual</td>\n",
       "      <td>21.14</td>\n",
       "      <td>1498.0</td>\n",
       "      <td>103.52</td>\n",
       "      <td>5.0</td>\n",
       "      <td>Skoda</td>\n",
       "    </tr>\n",
       "    <tr>\n",
       "      <th>19972</th>\n",
       "      <td>Mahindra XUV500 W6</td>\n",
       "      <td>1225000</td>\n",
       "      <td>New Car (On-Road Price) : Rs.17.83-24.91 Lakh*</td>\n",
       "      <td>2016</td>\n",
       "      <td>Dealer</td>\n",
       "      <td>3800000</td>\n",
       "      <td>First Owner</td>\n",
       "      <td>Diesel</td>\n",
       "      <td>Manual</td>\n",
       "      <td>16.00</td>\n",
       "      <td>2179.0</td>\n",
       "      <td>140.00</td>\n",
       "      <td>7.0</td>\n",
       "      <td>Mahindra</td>\n",
       "    </tr>\n",
       "    <tr>\n",
       "      <th>19973</th>\n",
       "      <td>Honda City i-VTEC</td>\n",
       "      <td>1200000</td>\n",
       "      <td>NaN</td>\n",
       "      <td>2019</td>\n",
       "      <td>Dealer</td>\n",
       "      <td>13000</td>\n",
       "      <td>First Owner</td>\n",
       "      <td>Petrol</td>\n",
       "      <td>Automatic</td>\n",
       "      <td>18.00</td>\n",
       "      <td>1497.0</td>\n",
       "      <td>117.60</td>\n",
       "      <td>5.0</td>\n",
       "      <td>Honda</td>\n",
       "    </tr>\n",
       "  </tbody>\n",
       "</table>\n",
       "<p>19974 rows × 14 columns</p>\n",
       "</div>"
      ],
      "text/plain": [
       "                    full_name  selling_price  \\\n",
       "0             Maruti Alto Std         120000   \n",
       "1            Hyundai i10 Asta         550000   \n",
       "2            Hyundai i20 Asta         215000   \n",
       "3             Maruti Alto K10         225999   \n",
       "4      Ford Ecosport Titanium         570000   \n",
       "...                       ...            ...   \n",
       "19969   Toyota Platinum Etios         650000   \n",
       "19970      Maruti Ertiga BSIV         925000   \n",
       "19971         Skoda Rapid 1.5         425000   \n",
       "19972      Mahindra XUV500 W6        1225000   \n",
       "19973       Honda City i-VTEC        1200000   \n",
       "\n",
       "                                            new_price  year seller_type  \\\n",
       "0                                                 NaN  2012  Individual   \n",
       "1        New Car (On-Road Price) : Rs.7.11-7.48 Lakh*  2016  Individual   \n",
       "2                                                 NaN  2010  Individual   \n",
       "3                                                 NaN  2012  Individual   \n",
       "4      New Car (On-Road Price) : Rs.10.14-13.79 Lakh*  2015      Dealer   \n",
       "...                                               ...   ...         ...   \n",
       "19969                                             NaN  2017      Dealer   \n",
       "19970                                             NaN  2019      Dealer   \n",
       "19971                                             NaN  2015      Dealer   \n",
       "19972  New Car (On-Road Price) : Rs.17.83-24.91 Lakh*  2016      Dealer   \n",
       "19973                                             NaN  2019      Dealer   \n",
       "\n",
       "       km_driven   owner_type fuel_type transmission_type  mileage  engine  \\\n",
       "0         120000  First Owner    Petrol            Manual    19.70   796.0   \n",
       "1          20000  First Owner    Petrol            Manual    18.90  1197.0   \n",
       "2          60000  First Owner    Petrol            Manual    17.00  1197.0   \n",
       "3          37000  First Owner    Petrol            Manual    20.92   998.0   \n",
       "4          30000  First Owner    Diesel            Manual    22.77  1498.0   \n",
       "...          ...          ...       ...               ...      ...     ...   \n",
       "19969      69480  First Owner    Diesel            Manual    23.59  1364.0   \n",
       "19970      18000  First Owner    Petrol            Manual    17.50  1373.0   \n",
       "19971      67000  First Owner    Diesel            Manual    21.14  1498.0   \n",
       "19972    3800000  First Owner    Diesel            Manual    16.00  2179.0   \n",
       "19973      13000  First Owner    Petrol         Automatic    18.00  1497.0   \n",
       "\n",
       "       max_power  seats   company  \n",
       "0          46.30    5.0    Maruti  \n",
       "1          82.00    5.0   Hyundai  \n",
       "2          80.00    5.0   Hyundai  \n",
       "3          67.10    5.0    Maruti  \n",
       "4          98.59    5.0      Ford  \n",
       "...          ...    ...       ...  \n",
       "19969      67.05    5.0    Toyota  \n",
       "19970      91.10    7.0    Maruti  \n",
       "19971     103.52    5.0     Skoda  \n",
       "19972     140.00    7.0  Mahindra  \n",
       "19973     117.60    5.0     Honda  \n",
       "\n",
       "[19974 rows x 14 columns]"
      ]
     },
     "execution_count": 12,
     "metadata": {},
     "output_type": "execute_result"
    }
   ],
   "source": [
    "data"
   ]
  },
  {
   "cell_type": "code",
   "execution_count": 13,
   "metadata": {},
   "outputs": [
    {
     "data": {
      "text/html": [
       "<div>\n",
       "<style scoped>\n",
       "    .dataframe tbody tr th:only-of-type {\n",
       "        vertical-align: middle;\n",
       "    }\n",
       "\n",
       "    .dataframe tbody tr th {\n",
       "        vertical-align: top;\n",
       "    }\n",
       "\n",
       "    .dataframe thead th {\n",
       "        text-align: right;\n",
       "    }\n",
       "</style>\n",
       "<table border=\"1\" class=\"dataframe\">\n",
       "  <thead>\n",
       "    <tr style=\"text-align: right;\">\n",
       "      <th></th>\n",
       "      <th>full_name</th>\n",
       "      <th>selling_price</th>\n",
       "      <th>year</th>\n",
       "      <th>seller_type</th>\n",
       "      <th>km_driven</th>\n",
       "      <th>owner_type</th>\n",
       "      <th>fuel_type</th>\n",
       "      <th>transmission_type</th>\n",
       "      <th>mileage</th>\n",
       "      <th>engine</th>\n",
       "      <th>max_power</th>\n",
       "      <th>seats</th>\n",
       "      <th>company</th>\n",
       "    </tr>\n",
       "  </thead>\n",
       "  <tbody>\n",
       "    <tr>\n",
       "      <th>0</th>\n",
       "      <td>Maruti Alto Std</td>\n",
       "      <td>120000</td>\n",
       "      <td>2012</td>\n",
       "      <td>Individual</td>\n",
       "      <td>120000</td>\n",
       "      <td>First Owner</td>\n",
       "      <td>Petrol</td>\n",
       "      <td>Manual</td>\n",
       "      <td>19.70</td>\n",
       "      <td>796.0</td>\n",
       "      <td>46.30</td>\n",
       "      <td>5.0</td>\n",
       "      <td>Maruti</td>\n",
       "    </tr>\n",
       "    <tr>\n",
       "      <th>1</th>\n",
       "      <td>Hyundai i10 Asta</td>\n",
       "      <td>550000</td>\n",
       "      <td>2016</td>\n",
       "      <td>Individual</td>\n",
       "      <td>20000</td>\n",
       "      <td>First Owner</td>\n",
       "      <td>Petrol</td>\n",
       "      <td>Manual</td>\n",
       "      <td>18.90</td>\n",
       "      <td>1197.0</td>\n",
       "      <td>82.00</td>\n",
       "      <td>5.0</td>\n",
       "      <td>Hyundai</td>\n",
       "    </tr>\n",
       "    <tr>\n",
       "      <th>2</th>\n",
       "      <td>Hyundai i20 Asta</td>\n",
       "      <td>215000</td>\n",
       "      <td>2010</td>\n",
       "      <td>Individual</td>\n",
       "      <td>60000</td>\n",
       "      <td>First Owner</td>\n",
       "      <td>Petrol</td>\n",
       "      <td>Manual</td>\n",
       "      <td>17.00</td>\n",
       "      <td>1197.0</td>\n",
       "      <td>80.00</td>\n",
       "      <td>5.0</td>\n",
       "      <td>Hyundai</td>\n",
       "    </tr>\n",
       "    <tr>\n",
       "      <th>3</th>\n",
       "      <td>Maruti Alto K10</td>\n",
       "      <td>225999</td>\n",
       "      <td>2012</td>\n",
       "      <td>Individual</td>\n",
       "      <td>37000</td>\n",
       "      <td>First Owner</td>\n",
       "      <td>Petrol</td>\n",
       "      <td>Manual</td>\n",
       "      <td>20.92</td>\n",
       "      <td>998.0</td>\n",
       "      <td>67.10</td>\n",
       "      <td>5.0</td>\n",
       "      <td>Maruti</td>\n",
       "    </tr>\n",
       "    <tr>\n",
       "      <th>4</th>\n",
       "      <td>Ford Ecosport Titanium</td>\n",
       "      <td>570000</td>\n",
       "      <td>2015</td>\n",
       "      <td>Dealer</td>\n",
       "      <td>30000</td>\n",
       "      <td>First Owner</td>\n",
       "      <td>Diesel</td>\n",
       "      <td>Manual</td>\n",
       "      <td>22.77</td>\n",
       "      <td>1498.0</td>\n",
       "      <td>98.59</td>\n",
       "      <td>5.0</td>\n",
       "      <td>Ford</td>\n",
       "    </tr>\n",
       "  </tbody>\n",
       "</table>\n",
       "</div>"
      ],
      "text/plain": [
       "                full_name  selling_price  year seller_type  km_driven  \\\n",
       "0         Maruti Alto Std         120000  2012  Individual     120000   \n",
       "1        Hyundai i10 Asta         550000  2016  Individual      20000   \n",
       "2        Hyundai i20 Asta         215000  2010  Individual      60000   \n",
       "3         Maruti Alto K10         225999  2012  Individual      37000   \n",
       "4  Ford Ecosport Titanium         570000  2015      Dealer      30000   \n",
       "\n",
       "    owner_type fuel_type transmission_type  mileage  engine  max_power  seats  \\\n",
       "0  First Owner    Petrol            Manual    19.70   796.0      46.30    5.0   \n",
       "1  First Owner    Petrol            Manual    18.90  1197.0      82.00    5.0   \n",
       "2  First Owner    Petrol            Manual    17.00  1197.0      80.00    5.0   \n",
       "3  First Owner    Petrol            Manual    20.92   998.0      67.10    5.0   \n",
       "4  First Owner    Diesel            Manual    22.77  1498.0      98.59    5.0   \n",
       "\n",
       "   company  \n",
       "0   Maruti  \n",
       "1  Hyundai  \n",
       "2  Hyundai  \n",
       "3   Maruti  \n",
       "4     Ford  "
      ]
     },
     "execution_count": 13,
     "metadata": {},
     "output_type": "execute_result"
    }
   ],
   "source": [
    "data.drop(columns=['new_price'], axis=1, inplace=True)\n",
    "data.head()"
   ]
  },
  {
   "cell_type": "markdown",
   "metadata": {},
   "source": [
    "### Data Analysis"
   ]
  },
  {
   "cell_type": "code",
   "execution_count": 14,
   "metadata": {
    "scrolled": true
   },
   "outputs": [
    {
     "data": {
      "text/html": [
       "<div>\n",
       "<style scoped>\n",
       "    .dataframe tbody tr th:only-of-type {\n",
       "        vertical-align: middle;\n",
       "    }\n",
       "\n",
       "    .dataframe tbody tr th {\n",
       "        vertical-align: top;\n",
       "    }\n",
       "\n",
       "    .dataframe thead th {\n",
       "        text-align: right;\n",
       "    }\n",
       "</style>\n",
       "<table border=\"1\" class=\"dataframe\">\n",
       "  <thead>\n",
       "    <tr style=\"text-align: right;\">\n",
       "      <th></th>\n",
       "      <th>count</th>\n",
       "      <th>mean</th>\n",
       "      <th>std</th>\n",
       "      <th>min</th>\n",
       "      <th>25%</th>\n",
       "      <th>50%</th>\n",
       "      <th>75%</th>\n",
       "      <th>max</th>\n",
       "    </tr>\n",
       "  </thead>\n",
       "  <tbody>\n",
       "    <tr>\n",
       "      <th>selling_price</th>\n",
       "      <td>19974.0</td>\n",
       "      <td>739294.432612</td>\n",
       "      <td>910400.116520</td>\n",
       "      <td>25000.0</td>\n",
       "      <td>340000.00</td>\n",
       "      <td>520000.0</td>\n",
       "      <td>785000.00</td>\n",
       "      <td>39500000.0</td>\n",
       "    </tr>\n",
       "    <tr>\n",
       "      <th>year</th>\n",
       "      <td>19974.0</td>\n",
       "      <td>2014.526134</td>\n",
       "      <td>3.248791</td>\n",
       "      <td>1991.0</td>\n",
       "      <td>2013.00</td>\n",
       "      <td>2015.0</td>\n",
       "      <td>2017.00</td>\n",
       "      <td>2021.0</td>\n",
       "    </tr>\n",
       "    <tr>\n",
       "      <th>km_driven</th>\n",
       "      <td>19974.0</td>\n",
       "      <td>58238.894663</td>\n",
       "      <td>51727.595500</td>\n",
       "      <td>100.0</td>\n",
       "      <td>31114.00</td>\n",
       "      <td>52000.0</td>\n",
       "      <td>74000.00</td>\n",
       "      <td>3800000.0</td>\n",
       "    </tr>\n",
       "    <tr>\n",
       "      <th>mileage</th>\n",
       "      <td>19814.0</td>\n",
       "      <td>19.503637</td>\n",
       "      <td>4.298090</td>\n",
       "      <td>4.0</td>\n",
       "      <td>16.95</td>\n",
       "      <td>19.3</td>\n",
       "      <td>22.32</td>\n",
       "      <td>120.0</td>\n",
       "    </tr>\n",
       "    <tr>\n",
       "      <th>engine</th>\n",
       "      <td>19864.0</td>\n",
       "      <td>1477.805981</td>\n",
       "      <td>519.843056</td>\n",
       "      <td>72.0</td>\n",
       "      <td>1197.00</td>\n",
       "      <td>1248.0</td>\n",
       "      <td>1582.00</td>\n",
       "      <td>6752.0</td>\n",
       "    </tr>\n",
       "    <tr>\n",
       "      <th>max_power</th>\n",
       "      <td>19637.0</td>\n",
       "      <td>99.448762</td>\n",
       "      <td>43.784904</td>\n",
       "      <td>25.4</td>\n",
       "      <td>73.94</td>\n",
       "      <td>86.8</td>\n",
       "      <td>114.00</td>\n",
       "      <td>626.0</td>\n",
       "    </tr>\n",
       "    <tr>\n",
       "      <th>seats</th>\n",
       "      <td>19887.0</td>\n",
       "      <td>5.319807</td>\n",
       "      <td>0.837676</td>\n",
       "      <td>2.0</td>\n",
       "      <td>5.00</td>\n",
       "      <td>5.0</td>\n",
       "      <td>5.00</td>\n",
       "      <td>14.0</td>\n",
       "    </tr>\n",
       "  </tbody>\n",
       "</table>\n",
       "</div>"
      ],
      "text/plain": [
       "                 count           mean            std      min        25%  \\\n",
       "selling_price  19974.0  739294.432612  910400.116520  25000.0  340000.00   \n",
       "year           19974.0    2014.526134       3.248791   1991.0    2013.00   \n",
       "km_driven      19974.0   58238.894663   51727.595500    100.0   31114.00   \n",
       "mileage        19814.0      19.503637       4.298090      4.0      16.95   \n",
       "engine         19864.0    1477.805981     519.843056     72.0    1197.00   \n",
       "max_power      19637.0      99.448762      43.784904     25.4      73.94   \n",
       "seats          19887.0       5.319807       0.837676      2.0       5.00   \n",
       "\n",
       "                    50%        75%         max  \n",
       "selling_price  520000.0  785000.00  39500000.0  \n",
       "year             2015.0    2017.00      2021.0  \n",
       "km_driven       52000.0   74000.00   3800000.0  \n",
       "mileage            19.3      22.32       120.0  \n",
       "engine           1248.0    1582.00      6752.0  \n",
       "max_power          86.8     114.00       626.0  \n",
       "seats               5.0       5.00        14.0  "
      ]
     },
     "execution_count": 14,
     "metadata": {},
     "output_type": "execute_result"
    }
   ],
   "source": [
    "data.describe().T"
   ]
  },
  {
   "cell_type": "code",
   "execution_count": 15,
   "metadata": {},
   "outputs": [
    {
     "data": {
      "text/plain": [
       "array([2012, 2016, 2010, 2015, 2013, 2018, 2019, 2017, 2014, 2011, 2007,\n",
       "       2009, 2004, 2020, 2006, 2008, 2000, 2005, 2002, 1999, 2003, 1997,\n",
       "       2001, 1992, 2021, 1998, 1991, 1996], dtype=int64)"
      ]
     },
     "execution_count": 15,
     "metadata": {},
     "output_type": "execute_result"
    }
   ],
   "source": [
    "data['year'].unique()"
   ]
  },
  {
   "cell_type": "code",
   "execution_count": 16,
   "metadata": {},
   "outputs": [
    {
     "data": {
      "text/plain": [
       "array(['Individual', 'Dealer', 'Trustmark Dealer'], dtype=object)"
      ]
     },
     "execution_count": 16,
     "metadata": {},
     "output_type": "execute_result"
    }
   ],
   "source": [
    "data['seller_type'].unique()"
   ]
  },
  {
   "cell_type": "code",
   "execution_count": 17,
   "metadata": {},
   "outputs": [
    {
     "data": {
      "text/plain": [
       "array(['Petrol', 'Diesel', 'CNG', 'LPG', 'Electric'], dtype=object)"
      ]
     },
     "execution_count": 17,
     "metadata": {},
     "output_type": "execute_result"
    }
   ],
   "source": [
    "data['fuel_type'].unique()"
   ]
  },
  {
   "cell_type": "code",
   "execution_count": 18,
   "metadata": {},
   "outputs": [
    {
     "data": {
      "text/plain": [
       "array(['Manual', 'Automatic'], dtype=object)"
      ]
     },
     "execution_count": 18,
     "metadata": {},
     "output_type": "execute_result"
    }
   ],
   "source": [
    "data['transmission_type'].unique()"
   ]
  },
  {
   "cell_type": "code",
   "execution_count": 19,
   "metadata": {},
   "outputs": [
    {
     "data": {
      "text/plain": [
       "array(['Maruti', 'Hyundai', 'Ford', 'Mahindra', 'Tata', 'Renault',\n",
       "       'Nissan', 'Mini', 'Mercedes-Benz', 'Toyota', 'Fiat', 'Volkswagen',\n",
       "       'Honda', 'Chevrolet', 'Ambassador', 'Datsun', 'Kia', 'BMW',\n",
       "       'Mitsubishi', 'Audi', 'Skoda', 'LandRover', 'Jaguar', 'Daewoo',\n",
       "       'Bentley', 'MG', 'Isuzu', 'Porsche', 'Volvo', 'Lexus', 'Jeep',\n",
       "       'Premier', 'Maserati', 'Force', 'Lamborghini', 'Ferrari',\n",
       "       'OpelCorsa', 'Mercedes-AMG', 'DC', 'Rolls-Royce', 'Opel'],\n",
       "      dtype=object)"
      ]
     },
     "execution_count": 19,
     "metadata": {},
     "output_type": "execute_result"
    }
   ],
   "source": [
    "data['company'].unique()"
   ]
  },
  {
   "cell_type": "code",
   "execution_count": 20,
   "metadata": {},
   "outputs": [
    {
     "data": {
      "text/html": [
       "<style  type=\"text/css\" >\n",
       "#T_07cc9_row0_col2,#T_07cc9_row0_col3,#T_07cc9_row1_col2,#T_07cc9_row1_col3,#T_07cc9_row2_col2,#T_07cc9_row2_col3,#T_07cc9_row3_col2,#T_07cc9_row3_col3,#T_07cc9_row4_col2,#T_07cc9_row4_col3,#T_07cc9_row5_col2,#T_07cc9_row5_col3,#T_07cc9_row6_col2,#T_07cc9_row6_col3,#T_07cc9_row7_col2,#T_07cc9_row7_col3,#T_07cc9_row12_col2,#T_07cc9_row12_col3{\n",
       "            background-color:  #e5eff9;\n",
       "            color:  #000000;\n",
       "        }#T_07cc9_row8_col2,#T_07cc9_row8_col3{\n",
       "            background-color:  #65aad4;\n",
       "            color:  #000000;\n",
       "        }#T_07cc9_row9_col2,#T_07cc9_row9_col3{\n",
       "            background-color:  #9ac8e0;\n",
       "            color:  #000000;\n",
       "        }#T_07cc9_row10_col2,#T_07cc9_row10_col3{\n",
       "            background-color:  #08326e;\n",
       "            color:  #f1f1f1;\n",
       "        }#T_07cc9_row11_col2,#T_07cc9_row11_col3{\n",
       "            background-color:  #afd1e7;\n",
       "            color:  #000000;\n",
       "        }</style><table id=\"T_07cc9_\" ><thead>    <tr>        <th class=\"blank level0\" ></th>        <th class=\"col_heading level0 col0\" >features</th>        <th class=\"col_heading level0 col1\" >dtypes</th>        <th class=\"col_heading level0 col2\" >NaN count</th>        <th class=\"col_heading level0 col3\" >NaN percentage</th>    </tr></thead><tbody>\n",
       "                <tr>\n",
       "                        <th id=\"T_07cc9_level0_row0\" class=\"row_heading level0 row0\" >0</th>\n",
       "                        <td id=\"T_07cc9_row0_col0\" class=\"data row0 col0\" >full_name</td>\n",
       "                        <td id=\"T_07cc9_row0_col1\" class=\"data row0 col1\" >object</td>\n",
       "                        <td id=\"T_07cc9_row0_col2\" class=\"data row0 col2\" >0</td>\n",
       "                        <td id=\"T_07cc9_row0_col3\" class=\"data row0 col3\" >0.000000</td>\n",
       "            </tr>\n",
       "            <tr>\n",
       "                        <th id=\"T_07cc9_level0_row1\" class=\"row_heading level0 row1\" >1</th>\n",
       "                        <td id=\"T_07cc9_row1_col0\" class=\"data row1 col0\" >selling_price</td>\n",
       "                        <td id=\"T_07cc9_row1_col1\" class=\"data row1 col1\" >int32</td>\n",
       "                        <td id=\"T_07cc9_row1_col2\" class=\"data row1 col2\" >0</td>\n",
       "                        <td id=\"T_07cc9_row1_col3\" class=\"data row1 col3\" >0.000000</td>\n",
       "            </tr>\n",
       "            <tr>\n",
       "                        <th id=\"T_07cc9_level0_row2\" class=\"row_heading level0 row2\" >2</th>\n",
       "                        <td id=\"T_07cc9_row2_col0\" class=\"data row2 col0\" >year</td>\n",
       "                        <td id=\"T_07cc9_row2_col1\" class=\"data row2 col1\" >int64</td>\n",
       "                        <td id=\"T_07cc9_row2_col2\" class=\"data row2 col2\" >0</td>\n",
       "                        <td id=\"T_07cc9_row2_col3\" class=\"data row2 col3\" >0.000000</td>\n",
       "            </tr>\n",
       "            <tr>\n",
       "                        <th id=\"T_07cc9_level0_row3\" class=\"row_heading level0 row3\" >3</th>\n",
       "                        <td id=\"T_07cc9_row3_col0\" class=\"data row3 col0\" >seller_type</td>\n",
       "                        <td id=\"T_07cc9_row3_col1\" class=\"data row3 col1\" >object</td>\n",
       "                        <td id=\"T_07cc9_row3_col2\" class=\"data row3 col2\" >0</td>\n",
       "                        <td id=\"T_07cc9_row3_col3\" class=\"data row3 col3\" >0.000000</td>\n",
       "            </tr>\n",
       "            <tr>\n",
       "                        <th id=\"T_07cc9_level0_row4\" class=\"row_heading level0 row4\" >4</th>\n",
       "                        <td id=\"T_07cc9_row4_col0\" class=\"data row4 col0\" >km_driven</td>\n",
       "                        <td id=\"T_07cc9_row4_col1\" class=\"data row4 col1\" >int32</td>\n",
       "                        <td id=\"T_07cc9_row4_col2\" class=\"data row4 col2\" >0</td>\n",
       "                        <td id=\"T_07cc9_row4_col3\" class=\"data row4 col3\" >0.000000</td>\n",
       "            </tr>\n",
       "            <tr>\n",
       "                        <th id=\"T_07cc9_level0_row5\" class=\"row_heading level0 row5\" >5</th>\n",
       "                        <td id=\"T_07cc9_row5_col0\" class=\"data row5 col0\" >owner_type</td>\n",
       "                        <td id=\"T_07cc9_row5_col1\" class=\"data row5 col1\" >object</td>\n",
       "                        <td id=\"T_07cc9_row5_col2\" class=\"data row5 col2\" >0</td>\n",
       "                        <td id=\"T_07cc9_row5_col3\" class=\"data row5 col3\" >0.000000</td>\n",
       "            </tr>\n",
       "            <tr>\n",
       "                        <th id=\"T_07cc9_level0_row6\" class=\"row_heading level0 row6\" >6</th>\n",
       "                        <td id=\"T_07cc9_row6_col0\" class=\"data row6 col0\" >fuel_type</td>\n",
       "                        <td id=\"T_07cc9_row6_col1\" class=\"data row6 col1\" >object</td>\n",
       "                        <td id=\"T_07cc9_row6_col2\" class=\"data row6 col2\" >0</td>\n",
       "                        <td id=\"T_07cc9_row6_col3\" class=\"data row6 col3\" >0.000000</td>\n",
       "            </tr>\n",
       "            <tr>\n",
       "                        <th id=\"T_07cc9_level0_row7\" class=\"row_heading level0 row7\" >7</th>\n",
       "                        <td id=\"T_07cc9_row7_col0\" class=\"data row7 col0\" >transmission_type</td>\n",
       "                        <td id=\"T_07cc9_row7_col1\" class=\"data row7 col1\" >object</td>\n",
       "                        <td id=\"T_07cc9_row7_col2\" class=\"data row7 col2\" >0</td>\n",
       "                        <td id=\"T_07cc9_row7_col3\" class=\"data row7 col3\" >0.000000</td>\n",
       "            </tr>\n",
       "            <tr>\n",
       "                        <th id=\"T_07cc9_level0_row8\" class=\"row_heading level0 row8\" >8</th>\n",
       "                        <td id=\"T_07cc9_row8_col0\" class=\"data row8 col0\" >mileage</td>\n",
       "                        <td id=\"T_07cc9_row8_col1\" class=\"data row8 col1\" >float64</td>\n",
       "                        <td id=\"T_07cc9_row8_col2\" class=\"data row8 col2\" >160</td>\n",
       "                        <td id=\"T_07cc9_row8_col3\" class=\"data row8 col3\" >0.008010</td>\n",
       "            </tr>\n",
       "            <tr>\n",
       "                        <th id=\"T_07cc9_level0_row9\" class=\"row_heading level0 row9\" >9</th>\n",
       "                        <td id=\"T_07cc9_row9_col0\" class=\"data row9 col0\" >engine</td>\n",
       "                        <td id=\"T_07cc9_row9_col1\" class=\"data row9 col1\" >float64</td>\n",
       "                        <td id=\"T_07cc9_row9_col2\" class=\"data row9 col2\" >110</td>\n",
       "                        <td id=\"T_07cc9_row9_col3\" class=\"data row9 col3\" >0.005507</td>\n",
       "            </tr>\n",
       "            <tr>\n",
       "                        <th id=\"T_07cc9_level0_row10\" class=\"row_heading level0 row10\" >10</th>\n",
       "                        <td id=\"T_07cc9_row10_col0\" class=\"data row10 col0\" >max_power</td>\n",
       "                        <td id=\"T_07cc9_row10_col1\" class=\"data row10 col1\" >float64</td>\n",
       "                        <td id=\"T_07cc9_row10_col2\" class=\"data row10 col2\" >337</td>\n",
       "                        <td id=\"T_07cc9_row10_col3\" class=\"data row10 col3\" >0.016872</td>\n",
       "            </tr>\n",
       "            <tr>\n",
       "                        <th id=\"T_07cc9_level0_row11\" class=\"row_heading level0 row11\" >11</th>\n",
       "                        <td id=\"T_07cc9_row11_col0\" class=\"data row11 col0\" >seats</td>\n",
       "                        <td id=\"T_07cc9_row11_col1\" class=\"data row11 col1\" >float64</td>\n",
       "                        <td id=\"T_07cc9_row11_col2\" class=\"data row11 col2\" >87</td>\n",
       "                        <td id=\"T_07cc9_row11_col3\" class=\"data row11 col3\" >0.004356</td>\n",
       "            </tr>\n",
       "            <tr>\n",
       "                        <th id=\"T_07cc9_level0_row12\" class=\"row_heading level0 row12\" >12</th>\n",
       "                        <td id=\"T_07cc9_row12_col0\" class=\"data row12 col0\" >company</td>\n",
       "                        <td id=\"T_07cc9_row12_col1\" class=\"data row12 col1\" >object</td>\n",
       "                        <td id=\"T_07cc9_row12_col2\" class=\"data row12 col2\" >0</td>\n",
       "                        <td id=\"T_07cc9_row12_col3\" class=\"data row12 col3\" >0.000000</td>\n",
       "            </tr>\n",
       "    </tbody></table>"
      ],
      "text/plain": [
       "<pandas.io.formats.style.Styler at 0x19986cb3be0>"
      ]
     },
     "execution_count": 20,
     "metadata": {},
     "output_type": "execute_result"
    }
   ],
   "source": [
    "null_count()"
   ]
  },
  {
   "cell_type": "code",
   "execution_count": 21,
   "metadata": {
    "scrolled": true
   },
   "outputs": [
    {
     "data": {
      "text/html": [
       "<div>\n",
       "<style scoped>\n",
       "    .dataframe tbody tr th:only-of-type {\n",
       "        vertical-align: middle;\n",
       "    }\n",
       "\n",
       "    .dataframe tbody tr th {\n",
       "        vertical-align: top;\n",
       "    }\n",
       "\n",
       "    .dataframe thead th {\n",
       "        text-align: right;\n",
       "    }\n",
       "</style>\n",
       "<table border=\"1\" class=\"dataframe\">\n",
       "  <thead>\n",
       "    <tr style=\"text-align: right;\">\n",
       "      <th></th>\n",
       "      <th>full_name</th>\n",
       "      <th>selling_price</th>\n",
       "      <th>year</th>\n",
       "      <th>seller_type</th>\n",
       "      <th>km_driven</th>\n",
       "      <th>owner_type</th>\n",
       "      <th>fuel_type</th>\n",
       "      <th>transmission_type</th>\n",
       "      <th>mileage</th>\n",
       "      <th>engine</th>\n",
       "      <th>max_power</th>\n",
       "      <th>seats</th>\n",
       "      <th>company</th>\n",
       "    </tr>\n",
       "  </thead>\n",
       "  <tbody>\n",
       "    <tr>\n",
       "      <th>0</th>\n",
       "      <td>Maruti Alto Std</td>\n",
       "      <td>120000</td>\n",
       "      <td>2012</td>\n",
       "      <td>Individual</td>\n",
       "      <td>120000</td>\n",
       "      <td>First Owner</td>\n",
       "      <td>Petrol</td>\n",
       "      <td>Manual</td>\n",
       "      <td>19.70</td>\n",
       "      <td>796.0</td>\n",
       "      <td>46.30</td>\n",
       "      <td>5.0</td>\n",
       "      <td>Maruti</td>\n",
       "    </tr>\n",
       "    <tr>\n",
       "      <th>1</th>\n",
       "      <td>Hyundai i10 Asta</td>\n",
       "      <td>550000</td>\n",
       "      <td>2016</td>\n",
       "      <td>Individual</td>\n",
       "      <td>20000</td>\n",
       "      <td>First Owner</td>\n",
       "      <td>Petrol</td>\n",
       "      <td>Manual</td>\n",
       "      <td>18.90</td>\n",
       "      <td>1197.0</td>\n",
       "      <td>82.00</td>\n",
       "      <td>5.0</td>\n",
       "      <td>Hyundai</td>\n",
       "    </tr>\n",
       "    <tr>\n",
       "      <th>2</th>\n",
       "      <td>Hyundai i20 Asta</td>\n",
       "      <td>215000</td>\n",
       "      <td>2010</td>\n",
       "      <td>Individual</td>\n",
       "      <td>60000</td>\n",
       "      <td>First Owner</td>\n",
       "      <td>Petrol</td>\n",
       "      <td>Manual</td>\n",
       "      <td>17.00</td>\n",
       "      <td>1197.0</td>\n",
       "      <td>80.00</td>\n",
       "      <td>5.0</td>\n",
       "      <td>Hyundai</td>\n",
       "    </tr>\n",
       "    <tr>\n",
       "      <th>3</th>\n",
       "      <td>Maruti Alto K10</td>\n",
       "      <td>225999</td>\n",
       "      <td>2012</td>\n",
       "      <td>Individual</td>\n",
       "      <td>37000</td>\n",
       "      <td>First Owner</td>\n",
       "      <td>Petrol</td>\n",
       "      <td>Manual</td>\n",
       "      <td>20.92</td>\n",
       "      <td>998.0</td>\n",
       "      <td>67.10</td>\n",
       "      <td>5.0</td>\n",
       "      <td>Maruti</td>\n",
       "    </tr>\n",
       "    <tr>\n",
       "      <th>4</th>\n",
       "      <td>Ford Ecosport Titanium</td>\n",
       "      <td>570000</td>\n",
       "      <td>2015</td>\n",
       "      <td>Dealer</td>\n",
       "      <td>30000</td>\n",
       "      <td>First Owner</td>\n",
       "      <td>Diesel</td>\n",
       "      <td>Manual</td>\n",
       "      <td>22.77</td>\n",
       "      <td>1498.0</td>\n",
       "      <td>98.59</td>\n",
       "      <td>5.0</td>\n",
       "      <td>Ford</td>\n",
       "    </tr>\n",
       "    <tr>\n",
       "      <th>...</th>\n",
       "      <td>...</td>\n",
       "      <td>...</td>\n",
       "      <td>...</td>\n",
       "      <td>...</td>\n",
       "      <td>...</td>\n",
       "      <td>...</td>\n",
       "      <td>...</td>\n",
       "      <td>...</td>\n",
       "      <td>...</td>\n",
       "      <td>...</td>\n",
       "      <td>...</td>\n",
       "      <td>...</td>\n",
       "      <td>...</td>\n",
       "    </tr>\n",
       "    <tr>\n",
       "      <th>19969</th>\n",
       "      <td>Toyota Platinum Etios</td>\n",
       "      <td>650000</td>\n",
       "      <td>2017</td>\n",
       "      <td>Dealer</td>\n",
       "      <td>69480</td>\n",
       "      <td>First Owner</td>\n",
       "      <td>Diesel</td>\n",
       "      <td>Manual</td>\n",
       "      <td>23.59</td>\n",
       "      <td>1364.0</td>\n",
       "      <td>67.05</td>\n",
       "      <td>5.0</td>\n",
       "      <td>Toyota</td>\n",
       "    </tr>\n",
       "    <tr>\n",
       "      <th>19970</th>\n",
       "      <td>Maruti Ertiga BSIV</td>\n",
       "      <td>925000</td>\n",
       "      <td>2019</td>\n",
       "      <td>Dealer</td>\n",
       "      <td>18000</td>\n",
       "      <td>First Owner</td>\n",
       "      <td>Petrol</td>\n",
       "      <td>Manual</td>\n",
       "      <td>17.50</td>\n",
       "      <td>1373.0</td>\n",
       "      <td>91.10</td>\n",
       "      <td>7.0</td>\n",
       "      <td>Maruti</td>\n",
       "    </tr>\n",
       "    <tr>\n",
       "      <th>19971</th>\n",
       "      <td>Skoda Rapid 1.5</td>\n",
       "      <td>425000</td>\n",
       "      <td>2015</td>\n",
       "      <td>Dealer</td>\n",
       "      <td>67000</td>\n",
       "      <td>First Owner</td>\n",
       "      <td>Diesel</td>\n",
       "      <td>Manual</td>\n",
       "      <td>21.14</td>\n",
       "      <td>1498.0</td>\n",
       "      <td>103.52</td>\n",
       "      <td>5.0</td>\n",
       "      <td>Skoda</td>\n",
       "    </tr>\n",
       "    <tr>\n",
       "      <th>19972</th>\n",
       "      <td>Mahindra XUV500 W6</td>\n",
       "      <td>1225000</td>\n",
       "      <td>2016</td>\n",
       "      <td>Dealer</td>\n",
       "      <td>3800000</td>\n",
       "      <td>First Owner</td>\n",
       "      <td>Diesel</td>\n",
       "      <td>Manual</td>\n",
       "      <td>16.00</td>\n",
       "      <td>2179.0</td>\n",
       "      <td>140.00</td>\n",
       "      <td>7.0</td>\n",
       "      <td>Mahindra</td>\n",
       "    </tr>\n",
       "    <tr>\n",
       "      <th>19973</th>\n",
       "      <td>Honda City i-VTEC</td>\n",
       "      <td>1200000</td>\n",
       "      <td>2019</td>\n",
       "      <td>Dealer</td>\n",
       "      <td>13000</td>\n",
       "      <td>First Owner</td>\n",
       "      <td>Petrol</td>\n",
       "      <td>Automatic</td>\n",
       "      <td>18.00</td>\n",
       "      <td>1497.0</td>\n",
       "      <td>117.60</td>\n",
       "      <td>5.0</td>\n",
       "      <td>Honda</td>\n",
       "    </tr>\n",
       "  </tbody>\n",
       "</table>\n",
       "<p>19974 rows × 13 columns</p>\n",
       "</div>"
      ],
      "text/plain": [
       "                    full_name  selling_price  year seller_type  km_driven  \\\n",
       "0             Maruti Alto Std         120000  2012  Individual     120000   \n",
       "1            Hyundai i10 Asta         550000  2016  Individual      20000   \n",
       "2            Hyundai i20 Asta         215000  2010  Individual      60000   \n",
       "3             Maruti Alto K10         225999  2012  Individual      37000   \n",
       "4      Ford Ecosport Titanium         570000  2015      Dealer      30000   \n",
       "...                       ...            ...   ...         ...        ...   \n",
       "19969   Toyota Platinum Etios         650000  2017      Dealer      69480   \n",
       "19970      Maruti Ertiga BSIV         925000  2019      Dealer      18000   \n",
       "19971         Skoda Rapid 1.5         425000  2015      Dealer      67000   \n",
       "19972      Mahindra XUV500 W6        1225000  2016      Dealer    3800000   \n",
       "19973       Honda City i-VTEC        1200000  2019      Dealer      13000   \n",
       "\n",
       "        owner_type fuel_type transmission_type  mileage  engine  max_power  \\\n",
       "0      First Owner    Petrol            Manual    19.70   796.0      46.30   \n",
       "1      First Owner    Petrol            Manual    18.90  1197.0      82.00   \n",
       "2      First Owner    Petrol            Manual    17.00  1197.0      80.00   \n",
       "3      First Owner    Petrol            Manual    20.92   998.0      67.10   \n",
       "4      First Owner    Diesel            Manual    22.77  1498.0      98.59   \n",
       "...            ...       ...               ...      ...     ...        ...   \n",
       "19969  First Owner    Diesel            Manual    23.59  1364.0      67.05   \n",
       "19970  First Owner    Petrol            Manual    17.50  1373.0      91.10   \n",
       "19971  First Owner    Diesel            Manual    21.14  1498.0     103.52   \n",
       "19972  First Owner    Diesel            Manual    16.00  2179.0     140.00   \n",
       "19973  First Owner    Petrol         Automatic    18.00  1497.0     117.60   \n",
       "\n",
       "       seats   company  \n",
       "0        5.0    Maruti  \n",
       "1        5.0   Hyundai  \n",
       "2        5.0   Hyundai  \n",
       "3        5.0    Maruti  \n",
       "4        5.0      Ford  \n",
       "...      ...       ...  \n",
       "19969    5.0    Toyota  \n",
       "19970    7.0    Maruti  \n",
       "19971    5.0     Skoda  \n",
       "19972    7.0  Mahindra  \n",
       "19973    5.0     Honda  \n",
       "\n",
       "[19974 rows x 13 columns]"
      ]
     },
     "execution_count": 21,
     "metadata": {},
     "output_type": "execute_result"
    }
   ],
   "source": [
    "data"
   ]
  },
  {
   "cell_type": "code",
   "execution_count": 22,
   "metadata": {},
   "outputs": [],
   "source": [
    "for i in ['mileage', 'engine', 'max_power', 'seats']:\n",
    "    company_name = data[data[i].isnull()]['company'].value_counts().index[0]\n",
    "    if data[i].nunique()>10:\n",
    "        values = data[data['company']==company_name][i].mean()\n",
    "    else:\n",
    "        values = data[data['company']==company_name][i].median()\n",
    "        \n",
    "    data[i].fillna(values, inplace=True)"
   ]
  },
  {
   "cell_type": "code",
   "execution_count": 23,
   "metadata": {},
   "outputs": [
    {
     "data": {
      "text/html": [
       "<div>\n",
       "<style scoped>\n",
       "    .dataframe tbody tr th:only-of-type {\n",
       "        vertical-align: middle;\n",
       "    }\n",
       "\n",
       "    .dataframe tbody tr th {\n",
       "        vertical-align: top;\n",
       "    }\n",
       "\n",
       "    .dataframe thead th {\n",
       "        text-align: right;\n",
       "    }\n",
       "</style>\n",
       "<table border=\"1\" class=\"dataframe\">\n",
       "  <thead>\n",
       "    <tr style=\"text-align: right;\">\n",
       "      <th></th>\n",
       "      <th>full_name</th>\n",
       "      <th>selling_price</th>\n",
       "      <th>year</th>\n",
       "      <th>seller_type</th>\n",
       "      <th>km_driven</th>\n",
       "      <th>owner_type</th>\n",
       "      <th>fuel_type</th>\n",
       "      <th>transmission_type</th>\n",
       "      <th>mileage</th>\n",
       "      <th>engine</th>\n",
       "      <th>max_power</th>\n",
       "      <th>seats</th>\n",
       "      <th>company</th>\n",
       "    </tr>\n",
       "  </thead>\n",
       "  <tbody>\n",
       "    <tr>\n",
       "      <th>475</th>\n",
       "      <td>Bentley Mulsanne 6.8</td>\n",
       "      <td>23500000</td>\n",
       "      <td>2012</td>\n",
       "      <td>Dealer</td>\n",
       "      <td>15000</td>\n",
       "      <td>First Owner</td>\n",
       "      <td>Petrol</td>\n",
       "      <td>Automatic</td>\n",
       "      <td>10.10</td>\n",
       "      <td>6752.0</td>\n",
       "      <td>505.0</td>\n",
       "      <td>5.0</td>\n",
       "      <td>Bentley</td>\n",
       "    </tr>\n",
       "    <tr>\n",
       "      <th>1536</th>\n",
       "      <td>Bentley Continental GT</td>\n",
       "      <td>14500000</td>\n",
       "      <td>2012</td>\n",
       "      <td>Dealer</td>\n",
       "      <td>9000</td>\n",
       "      <td>First Owner</td>\n",
       "      <td>Petrol</td>\n",
       "      <td>Automatic</td>\n",
       "      <td>9.50</td>\n",
       "      <td>5998.0</td>\n",
       "      <td>626.0</td>\n",
       "      <td>4.0</td>\n",
       "      <td>Bentley</td>\n",
       "    </tr>\n",
       "    <tr>\n",
       "      <th>3980</th>\n",
       "      <td>Lamborghini Gallardo Spyder</td>\n",
       "      <td>15000000</td>\n",
       "      <td>2013</td>\n",
       "      <td>Dealer</td>\n",
       "      <td>4000</td>\n",
       "      <td>First Owner</td>\n",
       "      <td>Petrol</td>\n",
       "      <td>Automatic</td>\n",
       "      <td>6.40</td>\n",
       "      <td>5204.0</td>\n",
       "      <td>560.0</td>\n",
       "      <td>2.0</td>\n",
       "      <td>Lamborghini</td>\n",
       "    </tr>\n",
       "    <tr>\n",
       "      <th>4967</th>\n",
       "      <td>Ferrari GTC4Lusso T</td>\n",
       "      <td>39500000</td>\n",
       "      <td>2019</td>\n",
       "      <td>Dealer</td>\n",
       "      <td>3800</td>\n",
       "      <td>First Owner</td>\n",
       "      <td>Petrol</td>\n",
       "      <td>Automatic</td>\n",
       "      <td>4.00</td>\n",
       "      <td>3855.0</td>\n",
       "      <td>601.0</td>\n",
       "      <td>4.0</td>\n",
       "      <td>Ferrari</td>\n",
       "    </tr>\n",
       "    <tr>\n",
       "      <th>7851</th>\n",
       "      <td>BMW M Series</td>\n",
       "      <td>4000000</td>\n",
       "      <td>2013</td>\n",
       "      <td>Dealer</td>\n",
       "      <td>100000</td>\n",
       "      <td>First Owner</td>\n",
       "      <td>Petrol</td>\n",
       "      <td>Automatic</td>\n",
       "      <td>10.00</td>\n",
       "      <td>4999.0</td>\n",
       "      <td>507.0</td>\n",
       "      <td>4.0</td>\n",
       "      <td>BMW</td>\n",
       "    </tr>\n",
       "    <tr>\n",
       "      <th>12088</th>\n",
       "      <td>Porsche Cayenne Turbo</td>\n",
       "      <td>2000000</td>\n",
       "      <td>2009</td>\n",
       "      <td>Individual</td>\n",
       "      <td>126000</td>\n",
       "      <td>First Owner</td>\n",
       "      <td>Petrol</td>\n",
       "      <td>Automatic</td>\n",
       "      <td>8.50</td>\n",
       "      <td>4806.0</td>\n",
       "      <td>500.0</td>\n",
       "      <td>5.0</td>\n",
       "      <td>Porsche</td>\n",
       "    </tr>\n",
       "    <tr>\n",
       "      <th>12739</th>\n",
       "      <td>Mercedes-Benz S-Class Maybach</td>\n",
       "      <td>13000000</td>\n",
       "      <td>2018</td>\n",
       "      <td>Dealer</td>\n",
       "      <td>4000</td>\n",
       "      <td>First Owner</td>\n",
       "      <td>Petrol</td>\n",
       "      <td>Automatic</td>\n",
       "      <td>7.81</td>\n",
       "      <td>4663.0</td>\n",
       "      <td>459.0</td>\n",
       "      <td>4.0</td>\n",
       "      <td>Mercedes-Benz</td>\n",
       "    </tr>\n",
       "    <tr>\n",
       "      <th>13130</th>\n",
       "      <td>Bentley Continental Flying</td>\n",
       "      <td>5200000</td>\n",
       "      <td>2012</td>\n",
       "      <td>Dealer</td>\n",
       "      <td>37500</td>\n",
       "      <td>First Owner</td>\n",
       "      <td>Petrol</td>\n",
       "      <td>Automatic</td>\n",
       "      <td>6.00</td>\n",
       "      <td>5998.0</td>\n",
       "      <td>600.0</td>\n",
       "      <td>5.0</td>\n",
       "      <td>Bentley</td>\n",
       "    </tr>\n",
       "    <tr>\n",
       "      <th>14257</th>\n",
       "      <td>Rolls-Royce Ghost Series</td>\n",
       "      <td>24200000</td>\n",
       "      <td>2017</td>\n",
       "      <td>Individual</td>\n",
       "      <td>5000</td>\n",
       "      <td>First Owner</td>\n",
       "      <td>Petrol</td>\n",
       "      <td>Automatic</td>\n",
       "      <td>10.20</td>\n",
       "      <td>6592.0</td>\n",
       "      <td>563.0</td>\n",
       "      <td>4.0</td>\n",
       "      <td>Rolls-Royce</td>\n",
       "    </tr>\n",
       "    <tr>\n",
       "      <th>16856</th>\n",
       "      <td>Bentley Continental Flying</td>\n",
       "      <td>8100000</td>\n",
       "      <td>2011</td>\n",
       "      <td>Dealer</td>\n",
       "      <td>30000</td>\n",
       "      <td>First Owner</td>\n",
       "      <td>Petrol</td>\n",
       "      <td>Automatic</td>\n",
       "      <td>8.60</td>\n",
       "      <td>5998.0</td>\n",
       "      <td>552.0</td>\n",
       "      <td>4.0</td>\n",
       "      <td>Bentley</td>\n",
       "    </tr>\n",
       "    <tr>\n",
       "      <th>17020</th>\n",
       "      <td>BMW M Series</td>\n",
       "      <td>8500000</td>\n",
       "      <td>2015</td>\n",
       "      <td>Dealer</td>\n",
       "      <td>26724</td>\n",
       "      <td>First Owner</td>\n",
       "      <td>Petrol</td>\n",
       "      <td>Automatic</td>\n",
       "      <td>9.00</td>\n",
       "      <td>4395.0</td>\n",
       "      <td>575.0</td>\n",
       "      <td>5.0</td>\n",
       "      <td>BMW</td>\n",
       "    </tr>\n",
       "  </tbody>\n",
       "</table>\n",
       "</div>"
      ],
      "text/plain": [
       "                           full_name  selling_price  year seller_type  \\\n",
       "475             Bentley Mulsanne 6.8       23500000  2012      Dealer   \n",
       "1536          Bentley Continental GT       14500000  2012      Dealer   \n",
       "3980     Lamborghini Gallardo Spyder       15000000  2013      Dealer   \n",
       "4967             Ferrari GTC4Lusso T       39500000  2019      Dealer   \n",
       "7851                    BMW M Series        4000000  2013      Dealer   \n",
       "12088          Porsche Cayenne Turbo        2000000  2009  Individual   \n",
       "12739  Mercedes-Benz S-Class Maybach       13000000  2018      Dealer   \n",
       "13130     Bentley Continental Flying        5200000  2012      Dealer   \n",
       "14257       Rolls-Royce Ghost Series       24200000  2017  Individual   \n",
       "16856     Bentley Continental Flying        8100000  2011      Dealer   \n",
       "17020                   BMW M Series        8500000  2015      Dealer   \n",
       "\n",
       "       km_driven   owner_type fuel_type transmission_type  mileage  engine  \\\n",
       "475        15000  First Owner    Petrol         Automatic    10.10  6752.0   \n",
       "1536        9000  First Owner    Petrol         Automatic     9.50  5998.0   \n",
       "3980        4000  First Owner    Petrol         Automatic     6.40  5204.0   \n",
       "4967        3800  First Owner    Petrol         Automatic     4.00  3855.0   \n",
       "7851      100000  First Owner    Petrol         Automatic    10.00  4999.0   \n",
       "12088     126000  First Owner    Petrol         Automatic     8.50  4806.0   \n",
       "12739       4000  First Owner    Petrol         Automatic     7.81  4663.0   \n",
       "13130      37500  First Owner    Petrol         Automatic     6.00  5998.0   \n",
       "14257       5000  First Owner    Petrol         Automatic    10.20  6592.0   \n",
       "16856      30000  First Owner    Petrol         Automatic     8.60  5998.0   \n",
       "17020      26724  First Owner    Petrol         Automatic     9.00  4395.0   \n",
       "\n",
       "       max_power  seats        company  \n",
       "475        505.0    5.0        Bentley  \n",
       "1536       626.0    4.0        Bentley  \n",
       "3980       560.0    2.0    Lamborghini  \n",
       "4967       601.0    4.0        Ferrari  \n",
       "7851       507.0    4.0            BMW  \n",
       "12088      500.0    5.0        Porsche  \n",
       "12739      459.0    4.0  Mercedes-Benz  \n",
       "13130      600.0    5.0        Bentley  \n",
       "14257      563.0    4.0    Rolls-Royce  \n",
       "16856      552.0    4.0        Bentley  \n",
       "17020      575.0    5.0            BMW  "
      ]
     },
     "execution_count": 23,
     "metadata": {},
     "output_type": "execute_result"
    }
   ],
   "source": [
    "data[data['max_power'] > 450]"
   ]
  },
  {
   "cell_type": "code",
   "execution_count": 24,
   "metadata": {},
   "outputs": [],
   "source": [
    "data = data[data['selling_price'] < 10000000]\n",
    "data = data[data['km_driven'] < 600000]\n",
    "data = data[data['mileage'] < 40]\n",
    "data = data[data['engine'] < 6100]\n",
    "data = data[data['max_power'] < 450]\n",
    "data = data.reset_index(drop=True)"
   ]
  },
  {
   "cell_type": "code",
   "execution_count": 25,
   "metadata": {},
   "outputs": [
    {
     "data": {
      "text/html": [
       "<style  type=\"text/css\" >\n",
       "#T_f12c4_row0_col2,#T_f12c4_row0_col3,#T_f12c4_row1_col2,#T_f12c4_row1_col3,#T_f12c4_row2_col2,#T_f12c4_row2_col3,#T_f12c4_row3_col2,#T_f12c4_row3_col3,#T_f12c4_row4_col2,#T_f12c4_row4_col3,#T_f12c4_row5_col2,#T_f12c4_row5_col3,#T_f12c4_row6_col2,#T_f12c4_row6_col3,#T_f12c4_row7_col2,#T_f12c4_row7_col3,#T_f12c4_row8_col2,#T_f12c4_row8_col3,#T_f12c4_row9_col2,#T_f12c4_row9_col3,#T_f12c4_row10_col2,#T_f12c4_row10_col3,#T_f12c4_row11_col2,#T_f12c4_row11_col3,#T_f12c4_row12_col2,#T_f12c4_row12_col3{\n",
       "            background-color:  #f7fbff;\n",
       "            color:  #000000;\n",
       "        }</style><table id=\"T_f12c4_\" ><thead>    <tr>        <th class=\"blank level0\" ></th>        <th class=\"col_heading level0 col0\" >features</th>        <th class=\"col_heading level0 col1\" >dtypes</th>        <th class=\"col_heading level0 col2\" >NaN count</th>        <th class=\"col_heading level0 col3\" >NaN percentage</th>    </tr></thead><tbody>\n",
       "                <tr>\n",
       "                        <th id=\"T_f12c4_level0_row0\" class=\"row_heading level0 row0\" >0</th>\n",
       "                        <td id=\"T_f12c4_row0_col0\" class=\"data row0 col0\" >full_name</td>\n",
       "                        <td id=\"T_f12c4_row0_col1\" class=\"data row0 col1\" >object</td>\n",
       "                        <td id=\"T_f12c4_row0_col2\" class=\"data row0 col2\" >0</td>\n",
       "                        <td id=\"T_f12c4_row0_col3\" class=\"data row0 col3\" >0.000000</td>\n",
       "            </tr>\n",
       "            <tr>\n",
       "                        <th id=\"T_f12c4_level0_row1\" class=\"row_heading level0 row1\" >1</th>\n",
       "                        <td id=\"T_f12c4_row1_col0\" class=\"data row1 col0\" >selling_price</td>\n",
       "                        <td id=\"T_f12c4_row1_col1\" class=\"data row1 col1\" >int32</td>\n",
       "                        <td id=\"T_f12c4_row1_col2\" class=\"data row1 col2\" >0</td>\n",
       "                        <td id=\"T_f12c4_row1_col3\" class=\"data row1 col3\" >0.000000</td>\n",
       "            </tr>\n",
       "            <tr>\n",
       "                        <th id=\"T_f12c4_level0_row2\" class=\"row_heading level0 row2\" >2</th>\n",
       "                        <td id=\"T_f12c4_row2_col0\" class=\"data row2 col0\" >year</td>\n",
       "                        <td id=\"T_f12c4_row2_col1\" class=\"data row2 col1\" >int64</td>\n",
       "                        <td id=\"T_f12c4_row2_col2\" class=\"data row2 col2\" >0</td>\n",
       "                        <td id=\"T_f12c4_row2_col3\" class=\"data row2 col3\" >0.000000</td>\n",
       "            </tr>\n",
       "            <tr>\n",
       "                        <th id=\"T_f12c4_level0_row3\" class=\"row_heading level0 row3\" >3</th>\n",
       "                        <td id=\"T_f12c4_row3_col0\" class=\"data row3 col0\" >seller_type</td>\n",
       "                        <td id=\"T_f12c4_row3_col1\" class=\"data row3 col1\" >object</td>\n",
       "                        <td id=\"T_f12c4_row3_col2\" class=\"data row3 col2\" >0</td>\n",
       "                        <td id=\"T_f12c4_row3_col3\" class=\"data row3 col3\" >0.000000</td>\n",
       "            </tr>\n",
       "            <tr>\n",
       "                        <th id=\"T_f12c4_level0_row4\" class=\"row_heading level0 row4\" >4</th>\n",
       "                        <td id=\"T_f12c4_row4_col0\" class=\"data row4 col0\" >km_driven</td>\n",
       "                        <td id=\"T_f12c4_row4_col1\" class=\"data row4 col1\" >int32</td>\n",
       "                        <td id=\"T_f12c4_row4_col2\" class=\"data row4 col2\" >0</td>\n",
       "                        <td id=\"T_f12c4_row4_col3\" class=\"data row4 col3\" >0.000000</td>\n",
       "            </tr>\n",
       "            <tr>\n",
       "                        <th id=\"T_f12c4_level0_row5\" class=\"row_heading level0 row5\" >5</th>\n",
       "                        <td id=\"T_f12c4_row5_col0\" class=\"data row5 col0\" >owner_type</td>\n",
       "                        <td id=\"T_f12c4_row5_col1\" class=\"data row5 col1\" >object</td>\n",
       "                        <td id=\"T_f12c4_row5_col2\" class=\"data row5 col2\" >0</td>\n",
       "                        <td id=\"T_f12c4_row5_col3\" class=\"data row5 col3\" >0.000000</td>\n",
       "            </tr>\n",
       "            <tr>\n",
       "                        <th id=\"T_f12c4_level0_row6\" class=\"row_heading level0 row6\" >6</th>\n",
       "                        <td id=\"T_f12c4_row6_col0\" class=\"data row6 col0\" >fuel_type</td>\n",
       "                        <td id=\"T_f12c4_row6_col1\" class=\"data row6 col1\" >object</td>\n",
       "                        <td id=\"T_f12c4_row6_col2\" class=\"data row6 col2\" >0</td>\n",
       "                        <td id=\"T_f12c4_row6_col3\" class=\"data row6 col3\" >0.000000</td>\n",
       "            </tr>\n",
       "            <tr>\n",
       "                        <th id=\"T_f12c4_level0_row7\" class=\"row_heading level0 row7\" >7</th>\n",
       "                        <td id=\"T_f12c4_row7_col0\" class=\"data row7 col0\" >transmission_type</td>\n",
       "                        <td id=\"T_f12c4_row7_col1\" class=\"data row7 col1\" >object</td>\n",
       "                        <td id=\"T_f12c4_row7_col2\" class=\"data row7 col2\" >0</td>\n",
       "                        <td id=\"T_f12c4_row7_col3\" class=\"data row7 col3\" >0.000000</td>\n",
       "            </tr>\n",
       "            <tr>\n",
       "                        <th id=\"T_f12c4_level0_row8\" class=\"row_heading level0 row8\" >8</th>\n",
       "                        <td id=\"T_f12c4_row8_col0\" class=\"data row8 col0\" >mileage</td>\n",
       "                        <td id=\"T_f12c4_row8_col1\" class=\"data row8 col1\" >float64</td>\n",
       "                        <td id=\"T_f12c4_row8_col2\" class=\"data row8 col2\" >0</td>\n",
       "                        <td id=\"T_f12c4_row8_col3\" class=\"data row8 col3\" >0.000000</td>\n",
       "            </tr>\n",
       "            <tr>\n",
       "                        <th id=\"T_f12c4_level0_row9\" class=\"row_heading level0 row9\" >9</th>\n",
       "                        <td id=\"T_f12c4_row9_col0\" class=\"data row9 col0\" >engine</td>\n",
       "                        <td id=\"T_f12c4_row9_col1\" class=\"data row9 col1\" >float64</td>\n",
       "                        <td id=\"T_f12c4_row9_col2\" class=\"data row9 col2\" >0</td>\n",
       "                        <td id=\"T_f12c4_row9_col3\" class=\"data row9 col3\" >0.000000</td>\n",
       "            </tr>\n",
       "            <tr>\n",
       "                        <th id=\"T_f12c4_level0_row10\" class=\"row_heading level0 row10\" >10</th>\n",
       "                        <td id=\"T_f12c4_row10_col0\" class=\"data row10 col0\" >max_power</td>\n",
       "                        <td id=\"T_f12c4_row10_col1\" class=\"data row10 col1\" >float64</td>\n",
       "                        <td id=\"T_f12c4_row10_col2\" class=\"data row10 col2\" >0</td>\n",
       "                        <td id=\"T_f12c4_row10_col3\" class=\"data row10 col3\" >0.000000</td>\n",
       "            </tr>\n",
       "            <tr>\n",
       "                        <th id=\"T_f12c4_level0_row11\" class=\"row_heading level0 row11\" >11</th>\n",
       "                        <td id=\"T_f12c4_row11_col0\" class=\"data row11 col0\" >seats</td>\n",
       "                        <td id=\"T_f12c4_row11_col1\" class=\"data row11 col1\" >float64</td>\n",
       "                        <td id=\"T_f12c4_row11_col2\" class=\"data row11 col2\" >0</td>\n",
       "                        <td id=\"T_f12c4_row11_col3\" class=\"data row11 col3\" >0.000000</td>\n",
       "            </tr>\n",
       "            <tr>\n",
       "                        <th id=\"T_f12c4_level0_row12\" class=\"row_heading level0 row12\" >12</th>\n",
       "                        <td id=\"T_f12c4_row12_col0\" class=\"data row12 col0\" >company</td>\n",
       "                        <td id=\"T_f12c4_row12_col1\" class=\"data row12 col1\" >object</td>\n",
       "                        <td id=\"T_f12c4_row12_col2\" class=\"data row12 col2\" >0</td>\n",
       "                        <td id=\"T_f12c4_row12_col3\" class=\"data row12 col3\" >0.000000</td>\n",
       "            </tr>\n",
       "    </tbody></table>"
      ],
      "text/plain": [
       "<pandas.io.formats.style.Styler at 0x199859978b0>"
      ]
     },
     "execution_count": 25,
     "metadata": {},
     "output_type": "execute_result"
    }
   ],
   "source": [
    "null_count()"
   ]
  },
  {
   "cell_type": "code",
   "execution_count": 26,
   "metadata": {},
   "outputs": [
    {
     "data": {
      "image/png": "[encoded data removed]",
      "text/plain": [
       "<Figure size 720x720 with 2 Axes>"
      ]
     },
     "metadata": {
      "needs_background": "light"
     },
     "output_type": "display_data"
    }
   ],
   "source": [
    "plt.figure(figsize = (10,10))\n",
    "plot = sns.heatmap(data.corr(), annot=True)"
   ]
  },
  {
   "cell_type": "code",
   "execution_count": 27,
   "metadata": {},
   "outputs": [
    {
     "data": {
      "text/html": [
       "<div>\n",
       "<style scoped>\n",
       "    .dataframe tbody tr th:only-of-type {\n",
       "        vertical-align: middle;\n",
       "    }\n",
       "\n",
       "    .dataframe tbody tr th {\n",
       "        vertical-align: top;\n",
       "    }\n",
       "\n",
       "    .dataframe thead th {\n",
       "        text-align: right;\n",
       "    }\n",
       "</style>\n",
       "<table border=\"1\" class=\"dataframe\">\n",
       "  <thead>\n",
       "    <tr style=\"text-align: right;\">\n",
       "      <th></th>\n",
       "      <th>full_name</th>\n",
       "      <th>selling_price</th>\n",
       "      <th>year</th>\n",
       "      <th>seller_type</th>\n",
       "      <th>km_driven</th>\n",
       "      <th>owner_type</th>\n",
       "      <th>fuel_type</th>\n",
       "      <th>transmission_type</th>\n",
       "      <th>mileage</th>\n",
       "      <th>engine</th>\n",
       "      <th>max_power</th>\n",
       "      <th>seats</th>\n",
       "      <th>company</th>\n",
       "    </tr>\n",
       "  </thead>\n",
       "  <tbody>\n",
       "    <tr>\n",
       "      <th>0</th>\n",
       "      <td>Maruti Alto Std</td>\n",
       "      <td>120000</td>\n",
       "      <td>2012</td>\n",
       "      <td>Individual</td>\n",
       "      <td>120000</td>\n",
       "      <td>First Owner</td>\n",
       "      <td>Petrol</td>\n",
       "      <td>Manual</td>\n",
       "      <td>19.70</td>\n",
       "      <td>796.0</td>\n",
       "      <td>46.30</td>\n",
       "      <td>5.0</td>\n",
       "      <td>Maruti</td>\n",
       "    </tr>\n",
       "    <tr>\n",
       "      <th>1</th>\n",
       "      <td>Hyundai i10 Asta</td>\n",
       "      <td>550000</td>\n",
       "      <td>2016</td>\n",
       "      <td>Individual</td>\n",
       "      <td>20000</td>\n",
       "      <td>First Owner</td>\n",
       "      <td>Petrol</td>\n",
       "      <td>Manual</td>\n",
       "      <td>18.90</td>\n",
       "      <td>1197.0</td>\n",
       "      <td>82.00</td>\n",
       "      <td>5.0</td>\n",
       "      <td>Hyundai</td>\n",
       "    </tr>\n",
       "    <tr>\n",
       "      <th>2</th>\n",
       "      <td>Hyundai i20 Asta</td>\n",
       "      <td>215000</td>\n",
       "      <td>2010</td>\n",
       "      <td>Individual</td>\n",
       "      <td>60000</td>\n",
       "      <td>First Owner</td>\n",
       "      <td>Petrol</td>\n",
       "      <td>Manual</td>\n",
       "      <td>17.00</td>\n",
       "      <td>1197.0</td>\n",
       "      <td>80.00</td>\n",
       "      <td>5.0</td>\n",
       "      <td>Hyundai</td>\n",
       "    </tr>\n",
       "    <tr>\n",
       "      <th>3</th>\n",
       "      <td>Maruti Alto K10</td>\n",
       "      <td>225999</td>\n",
       "      <td>2012</td>\n",
       "      <td>Individual</td>\n",
       "      <td>37000</td>\n",
       "      <td>First Owner</td>\n",
       "      <td>Petrol</td>\n",
       "      <td>Manual</td>\n",
       "      <td>20.92</td>\n",
       "      <td>998.0</td>\n",
       "      <td>67.10</td>\n",
       "      <td>5.0</td>\n",
       "      <td>Maruti</td>\n",
       "    </tr>\n",
       "    <tr>\n",
       "      <th>4</th>\n",
       "      <td>Ford Ecosport Titanium</td>\n",
       "      <td>570000</td>\n",
       "      <td>2015</td>\n",
       "      <td>Dealer</td>\n",
       "      <td>30000</td>\n",
       "      <td>First Owner</td>\n",
       "      <td>Diesel</td>\n",
       "      <td>Manual</td>\n",
       "      <td>22.77</td>\n",
       "      <td>1498.0</td>\n",
       "      <td>98.59</td>\n",
       "      <td>5.0</td>\n",
       "      <td>Ford</td>\n",
       "    </tr>\n",
       "    <tr>\n",
       "      <th>...</th>\n",
       "      <td>...</td>\n",
       "      <td>...</td>\n",
       "      <td>...</td>\n",
       "      <td>...</td>\n",
       "      <td>...</td>\n",
       "      <td>...</td>\n",
       "      <td>...</td>\n",
       "      <td>...</td>\n",
       "      <td>...</td>\n",
       "      <td>...</td>\n",
       "      <td>...</td>\n",
       "      <td>...</td>\n",
       "      <td>...</td>\n",
       "    </tr>\n",
       "    <tr>\n",
       "      <th>19935</th>\n",
       "      <td>Maruti A Star</td>\n",
       "      <td>225000</td>\n",
       "      <td>2009</td>\n",
       "      <td>Individual</td>\n",
       "      <td>15000</td>\n",
       "      <td>First Owner</td>\n",
       "      <td>Petrol</td>\n",
       "      <td>Manual</td>\n",
       "      <td>19.00</td>\n",
       "      <td>998.0</td>\n",
       "      <td>66.10</td>\n",
       "      <td>5.0</td>\n",
       "      <td>Maruti</td>\n",
       "    </tr>\n",
       "    <tr>\n",
       "      <th>19936</th>\n",
       "      <td>Toyota Platinum Etios</td>\n",
       "      <td>650000</td>\n",
       "      <td>2017</td>\n",
       "      <td>Dealer</td>\n",
       "      <td>69480</td>\n",
       "      <td>First Owner</td>\n",
       "      <td>Diesel</td>\n",
       "      <td>Manual</td>\n",
       "      <td>23.59</td>\n",
       "      <td>1364.0</td>\n",
       "      <td>67.05</td>\n",
       "      <td>5.0</td>\n",
       "      <td>Toyota</td>\n",
       "    </tr>\n",
       "    <tr>\n",
       "      <th>19937</th>\n",
       "      <td>Maruti Ertiga BSIV</td>\n",
       "      <td>925000</td>\n",
       "      <td>2019</td>\n",
       "      <td>Dealer</td>\n",
       "      <td>18000</td>\n",
       "      <td>First Owner</td>\n",
       "      <td>Petrol</td>\n",
       "      <td>Manual</td>\n",
       "      <td>17.50</td>\n",
       "      <td>1373.0</td>\n",
       "      <td>91.10</td>\n",
       "      <td>7.0</td>\n",
       "      <td>Maruti</td>\n",
       "    </tr>\n",
       "    <tr>\n",
       "      <th>19938</th>\n",
       "      <td>Skoda Rapid 1.5</td>\n",
       "      <td>425000</td>\n",
       "      <td>2015</td>\n",
       "      <td>Dealer</td>\n",
       "      <td>67000</td>\n",
       "      <td>First Owner</td>\n",
       "      <td>Diesel</td>\n",
       "      <td>Manual</td>\n",
       "      <td>21.14</td>\n",
       "      <td>1498.0</td>\n",
       "      <td>103.52</td>\n",
       "      <td>5.0</td>\n",
       "      <td>Skoda</td>\n",
       "    </tr>\n",
       "    <tr>\n",
       "      <th>19939</th>\n",
       "      <td>Honda City i-VTEC</td>\n",
       "      <td>1200000</td>\n",
       "      <td>2019</td>\n",
       "      <td>Dealer</td>\n",
       "      <td>13000</td>\n",
       "      <td>First Owner</td>\n",
       "      <td>Petrol</td>\n",
       "      <td>Automatic</td>\n",
       "      <td>18.00</td>\n",
       "      <td>1497.0</td>\n",
       "      <td>117.60</td>\n",
       "      <td>5.0</td>\n",
       "      <td>Honda</td>\n",
       "    </tr>\n",
       "  </tbody>\n",
       "</table>\n",
       "<p>19940 rows × 13 columns</p>\n",
       "</div>"
      ],
      "text/plain": [
       "                    full_name  selling_price  year seller_type  km_driven  \\\n",
       "0             Maruti Alto Std         120000  2012  Individual     120000   \n",
       "1            Hyundai i10 Asta         550000  2016  Individual      20000   \n",
       "2            Hyundai i20 Asta         215000  2010  Individual      60000   \n",
       "3             Maruti Alto K10         225999  2012  Individual      37000   \n",
       "4      Ford Ecosport Titanium         570000  2015      Dealer      30000   \n",
       "...                       ...            ...   ...         ...        ...   \n",
       "19935           Maruti A Star         225000  2009  Individual      15000   \n",
       "19936   Toyota Platinum Etios         650000  2017      Dealer      69480   \n",
       "19937      Maruti Ertiga BSIV         925000  2019      Dealer      18000   \n",
       "19938         Skoda Rapid 1.5         425000  2015      Dealer      67000   \n",
       "19939       Honda City i-VTEC        1200000  2019      Dealer      13000   \n",
       "\n",
       "        owner_type fuel_type transmission_type  mileage  engine  max_power  \\\n",
       "0      First Owner    Petrol            Manual    19.70   796.0      46.30   \n",
       "1      First Owner    Petrol            Manual    18.90  1197.0      82.00   \n",
       "2      First Owner    Petrol            Manual    17.00  1197.0      80.00   \n",
       "3      First Owner    Petrol            Manual    20.92   998.0      67.10   \n",
       "4      First Owner    Diesel            Manual    22.77  1498.0      98.59   \n",
       "...            ...       ...               ...      ...     ...        ...   \n",
       "19935  First Owner    Petrol            Manual    19.00   998.0      66.10   \n",
       "19936  First Owner    Diesel            Manual    23.59  1364.0      67.05   \n",
       "19937  First Owner    Petrol            Manual    17.50  1373.0      91.10   \n",
       "19938  First Owner    Diesel            Manual    21.14  1498.0     103.52   \n",
       "19939  First Owner    Petrol         Automatic    18.00  1497.0     117.60   \n",
       "\n",
       "       seats  company  \n",
       "0        5.0   Maruti  \n",
       "1        5.0  Hyundai  \n",
       "2        5.0  Hyundai  \n",
       "3        5.0   Maruti  \n",
       "4        5.0     Ford  \n",
       "...      ...      ...  \n",
       "19935    5.0   Maruti  \n",
       "19936    5.0   Toyota  \n",
       "19937    7.0   Maruti  \n",
       "19938    5.0    Skoda  \n",
       "19939    5.0    Honda  \n",
       "\n",
       "[19940 rows x 13 columns]"
      ]
     },
     "execution_count": 27,
     "metadata": {},
     "output_type": "execute_result"
    }
   ],
   "source": [
    "data"
   ]
  },
  {
   "cell_type": "code",
   "execution_count": 28,
   "metadata": {},
   "outputs": [
    {
     "data": {
      "text/plain": [
       "<AxesSubplot:xlabel='selling_price', ylabel='km_driven'>"
      ]
     },
     "execution_count": 28,
     "metadata": {},
     "output_type": "execute_result"
    },
    {
     "data": {
      "image/png": "[encoded data removed]",
      "text/plain": [
       "<Figure size 432x288 with 1 Axes>"
      ]
     },
     "metadata": {
      "needs_background": "light"
     },
     "output_type": "display_data"
    }
   ],
   "source": [
    "sns.scatterplot(data['selling_price'],data['km_driven'])"
   ]
  },
  {
   "cell_type": "code",
   "execution_count": 29,
   "metadata": {},
   "outputs": [
    {
     "data": {
      "text/plain": [
       "<AxesSubplot:xlabel='selling_price', ylabel='fuel_type'>"
      ]
     },
     "execution_count": 29,
     "metadata": {},
     "output_type": "execute_result"
    },
    {
     "data": {
      "image/png": "[encoded data removed]",
      "text/plain": [
       "<Figure size 432x288 with 1 Axes>"
      ]
     },
     "metadata": {
      "needs_background": "light"
     },
     "output_type": "display_data"
    }
   ],
   "source": [
    "sns.scatterplot(data['selling_price'],data['fuel_type'])"
   ]
  },
  {
   "cell_type": "code",
   "execution_count": 30,
   "metadata": {},
   "outputs": [
    {
     "data": {
      "text/plain": [
       "<AxesSubplot:xlabel='selling_price', ylabel='seller_type'>"
      ]
     },
     "execution_count": 30,
     "metadata": {},
     "output_type": "execute_result"
    },
    {
     "data": {
      "image/png": "[encoded data removed]",
      "text/plain": [
       "<Figure size 432x288 with 1 Axes>"
      ]
     },
     "metadata": {
      "needs_background": "light"
     },
     "output_type": "display_data"
    }
   ],
   "source": [
    "sns.scatterplot(data['selling_price'],data['seller_type'])"
   ]
  },
  {
   "cell_type": "code",
   "execution_count": 31,
   "metadata": {},
   "outputs": [
    {
     "data": {
      "text/plain": [
       "<AxesSubplot:xlabel='selling_price', ylabel='mileage'>"
      ]
     },
     "execution_count": 31,
     "metadata": {},
     "output_type": "execute_result"
    },
    {
     "data": {
      "image/png": "[encoded data removed]",
      "text/plain": [
       "<Figure size 432x288 with 1 Axes>"
      ]
     },
     "metadata": {
      "needs_background": "light"
     },
     "output_type": "display_data"
    }
   ],
   "source": [
    "sns.scatterplot(data['selling_price'],data['mileage'])"
   ]
  },
  {
   "cell_type": "code",
   "execution_count": 32,
   "metadata": {},
   "outputs": [
    {
     "data": {
      "text/plain": [
       "<AxesSubplot:xlabel='selling_price', ylabel='engine'>"
      ]
     },
     "execution_count": 32,
     "metadata": {},
     "output_type": "execute_result"
    },
    {
     "data": {
      "image/png": "[encoded data removed]",
      "text/plain": [
       "<Figure size 432x288 with 1 Axes>"
      ]
     },
     "metadata": {
      "needs_background": "light"
     },
     "output_type": "display_data"
    }
   ],
   "source": [
    "sns.scatterplot(data['selling_price'],data['engine'])"
   ]
  },
  {
   "cell_type": "code",
   "execution_count": 33,
   "metadata": {},
   "outputs": [
    {
     "data": {
      "text/plain": [
       "<AxesSubplot:xlabel='selling_price', ylabel='max_power'>"
      ]
     },
     "execution_count": 33,
     "metadata": {},
     "output_type": "execute_result"
    },
    {
     "data": {
      "image/png": "[encoded data removed]",
      "text/plain": [
       "<Figure size 432x288 with 1 Axes>"
      ]
     },
     "metadata": {
      "needs_background": "light"
     },
     "output_type": "display_data"
    }
   ],
   "source": [
    "sns.scatterplot(data['selling_price'],data['max_power'])"
   ]
  },
  {
   "cell_type": "code",
   "execution_count": 34,
   "metadata": {},
   "outputs": [],
   "source": [
    "X = data.drop(columns = ['selling_price','company'])\n",
    "y = data['selling_price']"
   ]
  },
  {
   "cell_type": "code",
   "execution_count": 72,
   "metadata": {},
   "outputs": [],
   "source": [
    "X_train,X_test,y_train,y_test = train_test_split(X,y,test_size=0.2,random_state=746)"
   ]
  },
  {
   "cell_type": "code",
   "execution_count": 73,
   "metadata": {},
   "outputs": [],
   "source": [
    "from sklearn.metrics import r2_score\n",
    "from sklearn.preprocessing import OneHotEncoder\n",
    "from sklearn.compose import make_column_transformer\n",
    "from sklearn.pipeline import make_pipeline"
   ]
  },
  {
   "cell_type": "code",
   "execution_count": 74,
   "metadata": {},
   "outputs": [
    {
     "data": {
      "text/plain": [
       "OneHotEncoder()"
      ]
     },
     "execution_count": 74,
     "metadata": {},
     "output_type": "execute_result"
    }
   ],
   "source": [
    "ohe = OneHotEncoder()\n",
    "ohe.fit(X[['full_name','year','seller_type','km_driven','owner_type','fuel_type','transmission_type','mileage','engine','max_power','seats']])"
   ]
  },
  {
   "cell_type": "code",
   "execution_count": 75,
   "metadata": {},
   "outputs": [],
   "source": [
    "column_trans = make_column_transformer((OneHotEncoder(categories=ohe.categories_),['full_name','year','seller_type','km_driven','owner_type','fuel_type','transmission_type','mileage','engine','max_power','seats']),\n",
    "                                      remainder='passthrough')"
   ]
  },
  {
   "cell_type": "code",
   "execution_count": 76,
   "metadata": {},
   "outputs": [],
   "source": [
    "ls = Lasso()"
   ]
  },
  {
   "cell_type": "code",
   "execution_count": 77,
   "metadata": {},
   "outputs": [],
   "source": [
    "pipe = make_pipeline(column_trans, ls)"
   ]
  },
  {
   "cell_type": "code",
   "execution_count": 78,
   "metadata": {
    "scrolled": true
   },
   "outputs": [
    {
     "data": {
      "text/plain": [
       "Pipeline(steps=[('columntransformer',\n",
       "                 ColumnTransformer(remainder='passthrough',\n",
       "                                   transformers=[('onehotencoder',\n",
       "                                                  OneHotEncoder(categories=[array(['Ambassador Avigo 1800', 'Ambassador Avigo 2000',\n",
       "       'Ambassador Classic 1800', ..., 'Volvo XC60 D4', 'Volvo XC60 D5',\n",
       "       'Volvo XC90 D5'], dtype=object),\n",
       "                                                                            array([1991, 1992, 1996, 1997, 1998, 1999, 2000, 2001, 2002, 2003, 2004,\n",
       "       2005, 2006, 2007, 2...\n",
       "       308.        , 308.43      , 313.        , 315.        ,\n",
       "       321.        , 328.5       , 333.        , 335.        ,\n",
       "       335.2       , 335.25      , 335.3       , 349.5       ,\n",
       "       355.37      , 355.4       , 360.        , 362.        ,\n",
       "       362.07      , 362.9       , 364.9       , 375.48      ,\n",
       "       375.5       , 385.        , 388.        , 394.3       ,\n",
       "       395.        , 402.        , 420.        , 423.7       ,\n",
       "       429.        ]),\n",
       "                                                                            array([ 2.,  4.,  5.,  6.,  7.,  8.,  9., 10., 14.])]),\n",
       "                                                  ['full_name', 'year',\n",
       "                                                   'seller_type', 'km_driven',\n",
       "                                                   'owner_type', 'fuel_type',\n",
       "                                                   'transmission_type',\n",
       "                                                   'mileage', 'engine',\n",
       "                                                   'max_power', 'seats'])])),\n",
       "                ('lasso', Lasso())])"
      ]
     },
     "execution_count": 78,
     "metadata": {},
     "output_type": "execute_result"
    }
   ],
   "source": [
    "pipe.fit(X_train, y_train)"
   ]
  },
  {
   "cell_type": "code",
   "execution_count": 79,
   "metadata": {},
   "outputs": [
    {
     "data": {
      "text/plain": [
       "array([461869.78034074, 387334.54812351, 214230.87382463, ...,\n",
       "       280649.80896395, 334342.17027965, 289602.78394083])"
      ]
     },
     "execution_count": 79,
     "metadata": {},
     "output_type": "execute_result"
    }
   ],
   "source": [
    "y_pred = pipe.predict(X_test)\n",
    "y_pred"
   ]
  },
  {
   "cell_type": "code",
   "execution_count": 80,
   "metadata": {},
   "outputs": [
    {
     "data": {
      "text/plain": [
       "0.8929351495873589"
      ]
     },
     "execution_count": 80,
     "metadata": {},
     "output_type": "execute_result"
    }
   ],
   "source": [
    "r2_score(y_test,y_pred)"
   ]
  },
  {
   "cell_type": "code",
   "execution_count": 81,
   "metadata": {},
   "outputs": [
    {
     "name": "stdout",
     "output_type": "stream",
     "text": [
      "MAE score =  128171.04756825323\n",
      "MSE score =  74710067836.04749\n",
      "RMSE score =  273331.42489667644\n"
     ]
    }
   ],
   "source": [
    "MAE = mean_absolute_error(y_test, y_pred)\n",
    "MSE = mean_squared_error(y_test, y_pred)\n",
    "RMSE = np.sqrt(mean_squared_error(y_test, y_pred))\n",
    "print('MAE score = ',MAE)\n",
    "print('MSE score = ',MSE)\n",
    "print('RMSE score = ',RMSE)"
   ]
  },
  {
   "cell_type": "code",
   "execution_count": 82,
   "metadata": {},
   "outputs": [],
   "source": [
    "def plotGraph(y_test,y_pred):\n",
    "    if max(y_test) >= max(y_pred):\n",
    "        my_range = int(max(y_test))\n",
    "    else:\n",
    "        my_range = int(max(y_pred))\n",
    "    plt.scatter(y_test, y_pred, color='red')\n",
    "    plt.plot(range(my_range), range(my_range), 'o')\n",
    "    plt.show()\n",
    "    return"
   ]
  },
  {
   "cell_type": "code",
   "execution_count": 83,
   "metadata": {},
   "outputs": [
    {
     "data": {
      "image/png": "[encoded data removed]",
      "text/plain": [
       "<Figure size 432x288 with 1 Axes>"
      ]
     },
     "metadata": {
      "needs_background": "light"
     },
     "output_type": "display_data"
    }
   ],
   "source": [
    "plotGraph(y_test,y_pred)"
   ]
  },
  {
   "cell_type": "code",
   "execution_count": 84,
   "metadata": {},
   "outputs": [
    {
     "data": {
      "text/plain": [
       "array([655939.27516785])"
      ]
     },
     "execution_count": 84,
     "metadata": {},
     "output_type": "execute_result"
    }
   ],
   "source": [
    "pipe.predict(pd.DataFrame([['Hyundai i20 Magna', 2018, 'Individual', 40000, 'First Owner', 'Petrol', 'Manual', 18.6, 1197, 81.83, 5]], columns=['full_name','year','seller_type','km_driven','owner_type','fuel_type','transmission_type','mileage','engine','max_power','seats']))"
   ]
  },
  {
   "cell_type": "code",
   "execution_count": 85,
   "metadata": {},
   "outputs": [
    {
     "data": {
      "text/plain": [
       "-53409"
      ]
     },
     "execution_count": 85,
     "metadata": {},
     "output_type": "execute_result"
    }
   ],
   "source": [
    "598000 - 651409"
   ]
  },
  {
   "cell_type": "code",
   "execution_count": 86,
   "metadata": {},
   "outputs": [
    {
     "data": {
      "text/plain": [
       "array([473934.6343599])"
      ]
     },
     "execution_count": 86,
     "metadata": {},
     "output_type": "execute_result"
    }
   ],
   "source": [
    "pipe.predict(pd.DataFrame([['Honda Amaze S', 2016, 'Dealer', 39993, 'First Owner', 'Petrol', 'Manual', 18.6, 1199, 88.76, 5]], columns=['full_name','year','seller_type','km_driven','owner_type','fuel_type','transmission_type','mileage','engine','max_power','seats']))"
   ]
  },
  {
   "cell_type": "code",
   "execution_count": 87,
   "metadata": {},
   "outputs": [
    {
     "data": {
      "text/plain": [
       "array([568366.43649172])"
      ]
     },
     "execution_count": 87,
     "metadata": {},
     "output_type": "execute_result"
    }
   ],
   "source": [
    "pipe.predict(pd.DataFrame([['Maruti Swift Dzire', 2016, 'Individual', 54000, 'First Owner', 'Petrol', 'Manual', 20.85, 1197, 83.14, 5]], columns=['full_name','year','seller_type','km_driven','owner_type','fuel_type','transmission_type','mileage','engine','max_power','seats']))"
   ]
  },
  {
   "cell_type": "code",
   "execution_count": 88,
   "metadata": {},
   "outputs": [
    {
     "data": {
      "text/plain": [
       "29686"
      ]
     },
     "execution_count": 88,
     "metadata": {},
     "output_type": "execute_result"
    }
   ],
   "source": [
    "600000-570314"
   ]
  },
  {
   "cell_type": "code",
   "execution_count": 89,
   "metadata": {},
   "outputs": [
    {
     "data": {
      "text/plain": [
       "array([868734.36927745])"
      ]
     },
     "execution_count": 89,
     "metadata": {},
     "output_type": "execute_result"
    }
   ],
   "source": [
    "pipe.predict(pd.DataFrame([['Mahindra Marazzo M2', 2019, 'Individual', 36000, 'First Owner', 'Diesel', 'Manual', 17.3, 1497, 121, 7]], columns=['full_name','year','seller_type','km_driven','owner_type','fuel_type','transmission_type','mileage','engine','max_power','seats']))"
   ]
  },
  {
   "cell_type": "code",
   "execution_count": 90,
   "metadata": {},
   "outputs": [
    {
     "data": {
      "text/plain": [
       "124045"
      ]
     },
     "execution_count": 90,
     "metadata": {},
     "output_type": "execute_result"
    }
   ],
   "source": [
    "990000-865955"
   ]
  },
  {
   "cell_type": "code",
   "execution_count": 91,
   "metadata": {},
   "outputs": [
    {
     "data": {
      "text/plain": [
       "array([341626.70593864])"
      ]
     },
     "execution_count": 91,
     "metadata": {},
     "output_type": "execute_result"
    }
   ],
   "source": [
    "pipe.predict(pd.DataFrame([['Chevrolet Sail 1.3', 2014, 'Individual', 90000, 'First Owner', 'Diesel', 'Manual', 22.1, 1248, 74, 5]], columns=['full_name','year','seller_type','km_driven','owner_type','fuel_type','transmission_type','mileage','engine','max_power','seats']))"
   ]
  },
  {
   "cell_type": "code",
   "execution_count": 92,
   "metadata": {},
   "outputs": [
    {
     "data": {
      "text/plain": [
       "-51814"
      ]
     },
     "execution_count": 92,
     "metadata": {},
     "output_type": "execute_result"
    }
   ],
   "source": [
    "300000-351814"
   ]
  },
  {
   "cell_type": "code",
   "execution_count": 93,
   "metadata": {},
   "outputs": [
    {
     "data": {
      "text/plain": [
       "array([1424696.45664872])"
      ]
     },
     "execution_count": 93,
     "metadata": {},
     "output_type": "execute_result"
    }
   ],
   "source": [
    "pipe.predict(pd.DataFrame([['Mercedes-Benz E-Class E250', 2011, 'Dealer', 57000, 'First Owner', 'Diesel', 'Automatic', 14.21, 2143, 203, 5]], columns=['full_name','year','seller_type','km_driven','owner_type','fuel_type','transmission_type','mileage','engine','max_power','seats']))"
   ]
  },
  {
   "cell_type": "code",
   "execution_count": 94,
   "metadata": {},
   "outputs": [
    {
     "data": {
      "text/plain": [
       "-300059"
      ]
     },
     "execution_count": 94,
     "metadata": {},
     "output_type": "execute_result"
    }
   ],
   "source": [
    "1125000-1425059"
   ]
  },
  {
   "cell_type": "code",
   "execution_count": 95,
   "metadata": {},
   "outputs": [
    {
     "data": {
      "text/plain": [
       "array([897214.38452114])"
      ]
     },
     "execution_count": 95,
     "metadata": {},
     "output_type": "execute_result"
    }
   ],
   "source": [
    "pipe.predict(pd.DataFrame([['Mahindra E Verito', 2020, 'Dealer', 2746, 'First Owner', 'Electric', 'Automatic', 14, 72, 41.57, 5]], columns=['full_name','year','seller_type','km_driven','owner_type','fuel_type','transmission_type','mileage','engine','max_power','seats']))"
   ]
  },
  {
   "cell_type": "code",
   "execution_count": 96,
   "metadata": {},
   "outputs": [
    {
     "data": {
      "text/plain": [
       "156171"
      ]
     },
     "execution_count": 96,
     "metadata": {},
     "output_type": "execute_result"
    }
   ],
   "source": [
    "945000-788829"
   ]
  },
  {
   "cell_type": "code",
   "execution_count": 97,
   "metadata": {},
   "outputs": [
    {
     "data": {
      "text/plain": [
       "array([1706025.95949583])"
      ]
     },
     "execution_count": 97,
     "metadata": {},
     "output_type": "execute_result"
    }
   ],
   "source": [
    "pipe.predict(pd.DataFrame([['Toyota Camry Hybrid', 2015, 'Dealer', 49500, 'First Owner', 'Electric', 'Automatic', 19.16, 2494, 157.7, 5]], columns=['full_name','year','seller_type','km_driven','owner_type','fuel_type','transmission_type','mileage','engine','max_power','seats']))"
   ]
  },
  {
   "cell_type": "code",
   "execution_count": 98,
   "metadata": {},
   "outputs": [
    {
     "data": {
      "text/plain": [
       "150375"
      ]
     },
     "execution_count": 98,
     "metadata": {},
     "output_type": "execute_result"
    }
   ],
   "source": [
    "1850000-1699625"
   ]
  },
  {
   "cell_type": "markdown",
   "metadata": {},
   "source": [
    "###### Real data"
   ]
  },
  {
   "cell_type": "code",
   "execution_count": 99,
   "metadata": {},
   "outputs": [
    {
     "data": {
      "text/plain": [
       "array([214264.72632906])"
      ]
     },
     "execution_count": 99,
     "metadata": {},
     "output_type": "execute_result"
    }
   ],
   "source": [
    "pipe.predict(pd.DataFrame([['Ford Fiesta 1.4', 2010, 'Dealer', 58000, 'First Owner', 'Petrol', 'Manual', 16.6, 1388, 68, 5]], columns=['full_name','year','seller_type','km_driven','owner_type','fuel_type','transmission_type','mileage','engine','max_power','seats']))"
   ]
  },
  {
   "cell_type": "code",
   "execution_count": 100,
   "metadata": {},
   "outputs": [
    {
     "data": {
      "text/plain": [
       "11228"
      ]
     },
     "execution_count": 100,
     "metadata": {},
     "output_type": "execute_result"
    }
   ],
   "source": [
    "250000-238772"
   ]
  },
  {
   "cell_type": "code",
   "execution_count": 101,
   "metadata": {},
   "outputs": [
    {
     "data": {
      "text/plain": [
       "array([1393680.01075328])"
      ]
     },
     "execution_count": 101,
     "metadata": {},
     "output_type": "execute_result"
    }
   ],
   "source": [
    "pipe.predict(pd.DataFrame([['BMW 5 Series', 2009, 'Dealer', 80000, 'First Owner', 'Diesel', 'Automatic', 18.48, 1995, 177, 5]], columns=['full_name','year','seller_type','km_driven','owner_type','fuel_type','transmission_type','mileage','engine','max_power','seats']))"
   ]
  },
  {
   "cell_type": "code",
   "execution_count": 102,
   "metadata": {},
   "outputs": [
    {
     "data": {
      "text/plain": [
       "-98620"
      ]
     },
     "execution_count": 102,
     "metadata": {},
     "output_type": "execute_result"
    }
   ],
   "source": [
    "1280000-1378620"
   ]
  },
  {
   "cell_type": "code",
   "execution_count": 103,
   "metadata": {},
   "outputs": [
    {
     "data": {
      "text/plain": [
       "array([1033973.96023041])"
      ]
     },
     "execution_count": 103,
     "metadata": {},
     "output_type": "execute_result"
    }
   ],
   "source": [
    "pipe.predict(pd.DataFrame([['BMW 5 Series', 2009, 'Dealer', 9400, 'First Owner', 'Petrol', 'Automatic', 20.28, 1462, 103.25, 5]], columns=['full_name','year','seller_type','km_driven','owner_type','fuel_type','transmission_type','mileage','engine','max_power','seats']))"
   ]
  },
  {
   "cell_type": "code",
   "execution_count": 104,
   "metadata": {},
   "outputs": [
    {
     "data": {
      "text/plain": [
       "195779"
      ]
     },
     "execution_count": 104,
     "metadata": {},
     "output_type": "execute_result"
    }
   ],
   "source": [
    "1095000-899221"
   ]
  },
  {
   "cell_type": "code",
   "execution_count": 105,
   "metadata": {},
   "outputs": [
    {
     "data": {
      "text/plain": [
       "array([98652.79238396])"
      ]
     },
     "execution_count": 105,
     "metadata": {},
     "output_type": "execute_result"
    }
   ],
   "source": [
    "pipe.predict(pd.DataFrame([['Hyundai i10 Magna', 2011, 'Individual', 150000, 'First Owner', 'Petrol', 'Manual', 19.81, 1086, 68.05, 5]], columns=['full_name','year','seller_type','km_driven','owner_type','fuel_type','transmission_type','mileage','engine','max_power','seats']))"
   ]
  },
  {
   "cell_type": "code",
   "execution_count": 106,
   "metadata": {},
   "outputs": [
    {
     "data": {
      "text/plain": [
       "(19940, 13)"
      ]
     },
     "execution_count": 106,
     "metadata": {},
     "output_type": "execute_result"
    }
   ],
   "source": [
    "data.shape"
   ]
  },
  {
   "cell_type": "code",
   "execution_count": 107,
   "metadata": {},
   "outputs": [],
   "source": [
    "import pickle"
   ]
  },
  {
   "cell_type": "code",
   "execution_count": 108,
   "metadata": {},
   "outputs": [],
   "source": [
    "pickle.dump(pipe,open('LassoRegressionModel.pkl','wb'))"
   ]
  },
  {
   "cell_type": "code",
   "execution_count": null,
   "metadata": {},
   "outputs": [],
   "source": [
    "cross_validation_score =  cross_val_score(estimator = pipe, X = X_train, y = y_train, cv = 10).mean()\n",
    "print('Cross-Validation score = ',cross_validation_score)"
   ]
  },
  {
   "cell_type": "code",
   "execution_count": null,
   "metadata": {},
   "outputs": [],
   "source": []
  }
 ],
 "metadata": {
  "kernelspec": {
   "display_name": "Python 3",
   "language": "python",
   "name": "python3"
  },
  "language_info": {
   "codemirror_mode": {
    "name": "ipython",
    "version": 3
   },
   "file_extension": ".py",
   "mimetype": "text/x-python",
   "name": "python",
   "nbconvert_exporter": "python",
   "pygments_lexer": "ipython3",
   "version": "3.7.6"
  }
 },
 "nbformat": 4,
 "nbformat_minor": 5
}
